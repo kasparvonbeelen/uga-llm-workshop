{
  "cells": [
    {
      "cell_type": "markdown",
      "metadata": {
        "id": "view-in-github",
        "colab_type": "text"
      },
      "source": [
        "<a href=\"https://colab.research.google.com/github/kasparvonbeelen/uga-llm-workshop/blob/main/2_Poking_LLMs.ipynb\" target=\"_parent\"><img src=\"https://colab.research.google.com/assets/colab-badge.svg\" alt=\"Open In Colab\"/></a>"
      ]
    },
    {
      "cell_type": "markdown",
      "metadata": {
        "id": "S-2ldxb0iUxG"
      },
      "source": [
        "# Using (open-source) LLMs for analysing humanities data"
      ]
    },
    {
      "cell_type": "markdown",
      "metadata": {
        "id": "E_e5BL9Ti3JG"
      },
      "source": [
        "In this notebook, we explore applications of generative AI for processing and analysing historical newspapers.\n",
        "\n",
        "## LLMs as Research Assistants\n",
        "\n",
        "The overarching questions is how to merge information in historical data with the predictive abilities of language models\n",
        "\n",
        "- Language Modelling : the previous notebook investigated how LMs 'absorb' historical knowledge by continued pre-training on historical data using a language modelling task\n",
        "\n",
        "- Instruction Following: what sets the current generation of LMs (ChatGPT, Llama, Claude etc.) apart from the previous, is their ability to follow instructions, often based on a few guiding examples. Few-shot learning: \"I tell you what to do based on selection examples of correct answers.\"\n",
        "\n",
        "This notebooks explores the latter approach, where LLMs are used to \"analyze\" content in meaningful and often complex ways.\n",
        "\n",
        "\n",
        "\n",
        "## RAG (or elevated copy-pasting)\n",
        "\n",
        "The \"I tell you what to do\" is usually referred to a \"prompt\" which we ask the LM to \"complete\".\n",
        "\n",
        "**Q: How can we inject historical data in this process?**\n",
        "\n",
        "**A: Retrieval Augmented Generation**: We ak the LLM to answer questions based on historical content we \"copy-paste\" into our prompt.\n",
        "\n",
        "We focus on the \"generation\" less on the \"retrieval\". We want to keep things simple (at the technical level)!\n",
        "\n",
        "We will be largely playing with an open source model, Llama-3, to get a feeling of LLMs change the way we can interrogate historical data.\n",
        "\n",
        "## Open Source LLMs\n",
        "\n",
        "Many of the popular, commerical models are \"closed\" in the sense that even though you can interact with them, they remain \"hidden\", i.e. you can not \"download\" them or freely run and manipulate them on your own computer system.\n",
        "\n",
        "\n",
        "### Why Open-source?\n",
        "\n",
        "- **Privacy:**: You might not want to share your data (and ideas) with companies such as OpenAI;\n",
        "- **Cost:** Making abstraction of the caveat above, using open-source models might reduce costs if you want to apply for example a prompt to 10k newspaper articles;\n",
        "- **Transparency:** Be mindful that there are different gradations of openness and transparency. Even when you can access the model weights, you might remain in the dark about training data and other factors);\n",
        "- **Flexibility:** Even though some providers allow you to train or fine-tune closed models on your data (ties in with privacy), open-source models still give you more freedom and wiggle room to build new models and applications.\n",
        "\n",
        "### Technical note\n",
        "\n",
        "We will be relying on the Hugging Face `InferenceClient` for accessing LLMs. These are freely accessible, but rate limits apply! If you would want to deploy a 'local' version (we're still on Colab, but the code should also work on your computer), uncomment the code below (where indicated) and make sure you are using a [GPU](https://cloud.google.com/gpu). To select a GPU on Colab Go to **`Runtime`** and select **`Change runtime type`**, then select `T4 GPU` (or any other GPU available).\n",
        "\n",
        "\n",
        "\n",
        "This notebook is inspired by: https://huggingface.co/learn/cookbook/structured_generation"
      ]
    },
    {
      "cell_type": "code",
      "execution_count": null,
      "metadata": {
        "id": "qxa9ES0zX9ic"
      },
      "outputs": [],
      "source": [
        "# install the transformer and other libraries\n",
        "#!pip install -q -U \"transformers==4.40.0\" pydantic accelerate outlines datasets bitsandbytes"
      ]
    },
    {
      "cell_type": "markdown",
      "metadata": {
        "id": "CXUryNZSXUd8"
      },
      "source": [
        "## The Hugging Face Hub\n",
        "\n",
        "In the examples below, we will experiment with `Llama-3-8B-Instruct`, a recent series of open-source LLMs created by Meta. To use Llama3 you need to:\n",
        "\n",
        "- Make an account on Hugging Face https://huggingface.co/\n",
        "- Go to the Llama-3-8B and sign the terms of use you should get a reply swiftly https://huggingface.co/meta-llama/Meta-Llama-3-8B\n",
        "- Create a user access token with at least read access: https://huggingface.co/docs/hub/en/security-tokens\n",
        "- Run the code cell below to log into the Hugging Face hub. Copy-paste the access token.\n",
        "- Reply `n` to the question 'Add token as git credential? (Y/n)'"
      ]
    },
    {
      "cell_type": "code",
      "execution_count": null,
      "metadata": {
        "id": "KIuiPmuRV9aU",
        "outputId": "03cf688b-3365-4e44-eb19-fc1d7a28eca6",
        "colab": {
          "base_uri": "https://localhost:8080/"
        }
      },
      "outputs": [
        {
          "output_type": "stream",
          "name": "stdout",
          "text": [
            "\n",
            "    _|    _|  _|    _|    _|_|_|    _|_|_|  _|_|_|  _|      _|    _|_|_|      _|_|_|_|    _|_|      _|_|_|  _|_|_|_|\n",
            "    _|    _|  _|    _|  _|        _|          _|    _|_|    _|  _|            _|        _|    _|  _|        _|\n",
            "    _|_|_|_|  _|    _|  _|  _|_|  _|  _|_|    _|    _|  _|  _|  _|  _|_|      _|_|_|    _|_|_|_|  _|        _|_|_|\n",
            "    _|    _|  _|    _|  _|    _|  _|    _|    _|    _|    _|_|  _|    _|      _|        _|    _|  _|        _|\n",
            "    _|    _|    _|_|      _|_|_|    _|_|_|  _|_|_|  _|      _|    _|_|_|      _|        _|    _|    _|_|_|  _|_|_|_|\n",
            "\n",
            "    To login, `huggingface_hub` requires a token generated from https://huggingface.co/settings/tokens .\n",
            "Enter your token (input will not be visible): \n",
            "Add token as git credential? (Y/n) n\n",
            "Token is valid (permission: write).\n",
            "Your token has been saved to /root/.cache/huggingface/token\n",
            "Login successful\n"
          ]
        }
      ],
      "source": [
        "!huggingface-cli login"
      ]
    },
    {
      "cell_type": "markdown",
      "metadata": {
        "id": "gpNX4yD1ch09"
      },
      "source": [
        "## Preparing model and data"
      ]
    },
    {
      "cell_type": "markdown",
      "metadata": {
        "id": "RtfaU-z2cLRC"
      },
      "source": [
        "### Import libraries"
      ]
    },
    {
      "cell_type": "code",
      "execution_count": null,
      "metadata": {
        "id": "IivyFPPNQ0t-"
      },
      "outputs": [],
      "source": [
        "import warnings\n",
        "warnings.filterwarnings('ignore') # disable warnings"
      ]
    },
    {
      "cell_type": "code",
      "execution_count": null,
      "metadata": {
        "id": "27FpdOCLasrJ"
      },
      "outputs": [],
      "source": [
        "import transformers\n",
        "from huggingface_hub import InferenceClient\n",
        "#from datasets import Dataset\n",
        "from tqdm import tqdm\n",
        "import pandas as pd\n",
        "import torch\n",
        "import pandas as pd\n",
        "import json\n",
        "pd.set_option(\"display.max_colwidth\", 100)"
      ]
    },
    {
      "cell_type": "markdown",
      "metadata": {
        "id": "Xtl7poXAcMdJ"
      },
      "source": [
        "### Load model"
      ]
    },
    {
      "cell_type": "code",
      "execution_count": null,
      "metadata": {
        "id": "6RiZovNJXdlf"
      },
      "outputs": [],
      "source": [
        "# choose a LLMs model\n",
        "repo_id = \"meta-llama/Meta-Llama-3-8B-Instruct\"\n",
        "# instantiate the inference client\n",
        "llm_client = InferenceClient(model=repo_id, timeout=120)"
      ]
    },
    {
      "cell_type": "code",
      "execution_count": null,
      "metadata": {
        "id": "Uc9ROzqBjxan"
      },
      "outputs": [],
      "source": [
        "# # use this cell if you can access an A100 or L4 GPU\n",
        "# # define the model, we use the instruct variant\n",
        "# checkpoint = \"meta-llama/Meta-Llama-3-8B-Instruct\"\n",
        "# device = 'cuda' # make sure you use a GPU\n",
        "\n",
        "# # instantiate a text generation pipeline\n",
        "# pipeline = transformers.pipeline(\n",
        "#     \"text-generation\",\n",
        "#     model=checkpoint,\n",
        "#     model_kwargs={\"torch_dtype\": torch.bfloat16},\n",
        "#     device=\"cuda\",\n",
        "# )\n",
        "\n",
        "# # some fluff to improve the generation\n",
        "# terminators = [\n",
        "#     pipeline.tokenizer.eos_token_id,\n",
        "#     pipeline.tokenizer.convert_tokens_to_ids(\"<|eot_id|>\")\n",
        "# ]"
      ]
    },
    {
      "cell_type": "code",
      "source": [
        "# # use this cell if you can only access a T4 GPU\n",
        "# from transformers import AutoTokenizer, AutoModelForCausalLM, BitsAndBytesConfig, pipeline\n",
        "# # define the model, we use the instruct variant\n",
        "# checkpoint = \"meta-llama/Meta-Llama-3-8B-Instruct\"\n",
        "# device = 'cuda' # make sure you use a GPU if available\n",
        "\n",
        "# bnb_confic = BitsAndBytesConfig(\n",
        "#     load_in_4bit=True,\n",
        "#     bnb_4bit_use_double_quant=True,\n",
        "#     bnb_4bit_quant_type=\"nf4\",\n",
        "#     bnb_4bit_compute_dtype=torch.bfloat16\n",
        "# )\n",
        "\n",
        "# tokenizer = AutoTokenizer.from_pretrained(checkpoint)\n",
        "# #tokenizer.pad_token = tokenizer.eos_token\n",
        "# model = AutoModelForCausalLM.from_pretrained(checkpoint,\n",
        "#                                              quantization_config=bnb_confic,\n",
        "#                                              device_map='auto')\n",
        "\n",
        "# pipeline = transformers.pipeline(\n",
        "#     \"text-generation\",\n",
        "#     model=model,\n",
        "#     tokenizer= tokenizer,\n",
        "# )\n",
        "\n",
        "\n",
        "# # some fluff to improve the generation\n",
        "# terminators = [\n",
        "#     pipeline.tokenizer.eos_token_id,\n",
        "#     pipeline.tokenizer.convert_tokens_to_ids(\"<|eot_id|>\")\n",
        "# ]"
      ],
      "metadata": {
        "id": "KN-l5VRih9Zm"
      },
      "execution_count": null,
      "outputs": []
    },
    {
      "cell_type": "markdown",
      "metadata": {
        "id": "lk732HeUcOvO"
      },
      "source": [
        "### Download data\n",
        "\n",
        "We will be experimenting with a small set of 10k British newspaper articles provided by the [\"Living with Machines\"](https://livingwithmachines.ac.uk/public-domain-newspaper-titles-in-living-with-machines/) project."
      ]
    },
    {
      "cell_type": "code",
      "execution_count": null,
      "metadata": {
        "id": "bj-797e0Z9zr",
        "outputId": "19dc38cd-0e4b-4863-cce1-558d956571f6",
        "colab": {
          "base_uri": "https://localhost:8080/"
        }
      },
      "outputs": [
        {
          "output_type": "stream",
          "name": "stdout",
          "text": [
            "Downloading...\n",
            "From (original): https://drive.google.com/uc?id=1cewugDdehGn-wPP9B4kTBg_Wmu-14aHq\n",
            "From (redirected): https://drive.google.com/uc?id=1cewugDdehGn-wPP9B4kTBg_Wmu-14aHq&confirm=t&uuid=2876a48a-5c29-4e0a-9aec-3abb29437b3c\n",
            "To: /content/0002247.csv.zip\n",
            "100% 82.8M/82.8M [00:01<00:00, 56.7MB/s]\n",
            "Archive:  0002247.csv.zip\n",
            "  inflating: 0002247.csv             \n",
            "  inflating: __MACOSX/._0002247.csv  \n"
          ]
        }
      ],
      "source": [
        "# download a sample of 10.000 newspaper articles\n",
        "!gdown 1cewugDdehGn-wPP9B4kTBg_Wmu-14aHq\n",
        "# unzip the downloaded sample\n",
        "!unzip -o 0002247.csv.zip\n",
        "!rm -r __MACOSX"
      ]
    },
    {
      "cell_type": "code",
      "execution_count": null,
      "metadata": {
        "id": "CP6EV9WhZXUR",
        "outputId": "e338418a-5fa2-4317-e32f-d0fa23a4b482",
        "colab": {
          "base_uri": "https://localhost:8080/",
          "height": 406
        }
      },
      "outputs": [
        {
          "output_type": "execute_result",
          "data": {
            "text/plain": [
              "                                                Unnamed: 0  \\\n",
              "0  0002247/1869/0320/0002247_18690320_art0001_metadata.xml   \n",
              "1  0002247/1869/0320/0002247_18690320_art0023_metadata.xml   \n",
              "2  0002247/1869/0320/0002247_18690320_art0065_metadata.xml   \n",
              "\n",
              "                      title item_type  ocr_quality_mean        date  \\\n",
              "0                       NaN   ARTICLE            0.8326  1869-03-20   \n",
              "1  SINGULA_R DisT'URBANCES.   ARTICLE            0.9487  1869-03-20   \n",
              "2        BUILDERS' TENDERS.   ARTICLE            0.9288  1869-03-20   \n",
              "\n",
              "                                                                                               content  \n",
              "0  new EDIN BORO\\nthe fa3hionable Oliva an 4 Brown\\nis, and fa,:ed 30s ,\\n\\nlew GLADSTONB\\n\\nelegan...  \n",
              "1  SINGULA_R DisT'URBANCES.\\n\\nFor upwards of 12 months the Scotch church in\\nMidvale-road, St. Hel...  \n",
              "2  BUILDERS' TENDERS.\\n\\nFor residence near Kettering. Mr. R. W. Johnson, architect—.\\nBarlow & But...  "
            ],
            "text/html": [
              "\n",
              "  <div id=\"df-f006a7d6-baeb-4b4c-ba46-e15d67021860\" class=\"colab-df-container\">\n",
              "    <div>\n",
              "<style scoped>\n",
              "    .dataframe tbody tr th:only-of-type {\n",
              "        vertical-align: middle;\n",
              "    }\n",
              "\n",
              "    .dataframe tbody tr th {\n",
              "        vertical-align: top;\n",
              "    }\n",
              "\n",
              "    .dataframe thead th {\n",
              "        text-align: right;\n",
              "    }\n",
              "</style>\n",
              "<table border=\"1\" class=\"dataframe\">\n",
              "  <thead>\n",
              "    <tr style=\"text-align: right;\">\n",
              "      <th></th>\n",
              "      <th>Unnamed: 0</th>\n",
              "      <th>title</th>\n",
              "      <th>item_type</th>\n",
              "      <th>ocr_quality_mean</th>\n",
              "      <th>date</th>\n",
              "      <th>content</th>\n",
              "    </tr>\n",
              "  </thead>\n",
              "  <tbody>\n",
              "    <tr>\n",
              "      <th>0</th>\n",
              "      <td>0002247/1869/0320/0002247_18690320_art0001_metadata.xml</td>\n",
              "      <td>NaN</td>\n",
              "      <td>ARTICLE</td>\n",
              "      <td>0.8326</td>\n",
              "      <td>1869-03-20</td>\n",
              "      <td>new EDIN BORO\\nthe fa3hionable Oliva an 4 Brown\\nis, and fa,:ed 30s ,\\n\\nlew GLADSTONB\\n\\nelegan...</td>\n",
              "    </tr>\n",
              "    <tr>\n",
              "      <th>1</th>\n",
              "      <td>0002247/1869/0320/0002247_18690320_art0023_metadata.xml</td>\n",
              "      <td>SINGULA_R DisT'URBANCES.</td>\n",
              "      <td>ARTICLE</td>\n",
              "      <td>0.9487</td>\n",
              "      <td>1869-03-20</td>\n",
              "      <td>SINGULA_R DisT'URBANCES.\\n\\nFor upwards of 12 months the Scotch church in\\nMidvale-road, St. Hel...</td>\n",
              "    </tr>\n",
              "    <tr>\n",
              "      <th>2</th>\n",
              "      <td>0002247/1869/0320/0002247_18690320_art0065_metadata.xml</td>\n",
              "      <td>BUILDERS' TENDERS.</td>\n",
              "      <td>ARTICLE</td>\n",
              "      <td>0.9288</td>\n",
              "      <td>1869-03-20</td>\n",
              "      <td>BUILDERS' TENDERS.\\n\\nFor residence near Kettering. Mr. R. W. Johnson, architect—.\\nBarlow &amp; But...</td>\n",
              "    </tr>\n",
              "  </tbody>\n",
              "</table>\n",
              "</div>\n",
              "    <div class=\"colab-df-buttons\">\n",
              "\n",
              "  <div class=\"colab-df-container\">\n",
              "    <button class=\"colab-df-convert\" onclick=\"convertToInteractive('df-f006a7d6-baeb-4b4c-ba46-e15d67021860')\"\n",
              "            title=\"Convert this dataframe to an interactive table.\"\n",
              "            style=\"display:none;\">\n",
              "\n",
              "  <svg xmlns=\"http://www.w3.org/2000/svg\" height=\"24px\" viewBox=\"0 -960 960 960\">\n",
              "    <path d=\"M120-120v-720h720v720H120Zm60-500h600v-160H180v160Zm220 220h160v-160H400v160Zm0 220h160v-160H400v160ZM180-400h160v-160H180v160Zm440 0h160v-160H620v160ZM180-180h160v-160H180v160Zm440 0h160v-160H620v160Z\"/>\n",
              "  </svg>\n",
              "    </button>\n",
              "\n",
              "  <style>\n",
              "    .colab-df-container {\n",
              "      display:flex;\n",
              "      gap: 12px;\n",
              "    }\n",
              "\n",
              "    .colab-df-convert {\n",
              "      background-color: #E8F0FE;\n",
              "      border: none;\n",
              "      border-radius: 50%;\n",
              "      cursor: pointer;\n",
              "      display: none;\n",
              "      fill: #1967D2;\n",
              "      height: 32px;\n",
              "      padding: 0 0 0 0;\n",
              "      width: 32px;\n",
              "    }\n",
              "\n",
              "    .colab-df-convert:hover {\n",
              "      background-color: #E2EBFA;\n",
              "      box-shadow: 0px 1px 2px rgba(60, 64, 67, 0.3), 0px 1px 3px 1px rgba(60, 64, 67, 0.15);\n",
              "      fill: #174EA6;\n",
              "    }\n",
              "\n",
              "    .colab-df-buttons div {\n",
              "      margin-bottom: 4px;\n",
              "    }\n",
              "\n",
              "    [theme=dark] .colab-df-convert {\n",
              "      background-color: #3B4455;\n",
              "      fill: #D2E3FC;\n",
              "    }\n",
              "\n",
              "    [theme=dark] .colab-df-convert:hover {\n",
              "      background-color: #434B5C;\n",
              "      box-shadow: 0px 1px 3px 1px rgba(0, 0, 0, 0.15);\n",
              "      filter: drop-shadow(0px 1px 2px rgba(0, 0, 0, 0.3));\n",
              "      fill: #FFFFFF;\n",
              "    }\n",
              "  </style>\n",
              "\n",
              "    <script>\n",
              "      const buttonEl =\n",
              "        document.querySelector('#df-f006a7d6-baeb-4b4c-ba46-e15d67021860 button.colab-df-convert');\n",
              "      buttonEl.style.display =\n",
              "        google.colab.kernel.accessAllowed ? 'block' : 'none';\n",
              "\n",
              "      async function convertToInteractive(key) {\n",
              "        const element = document.querySelector('#df-f006a7d6-baeb-4b4c-ba46-e15d67021860');\n",
              "        const dataTable =\n",
              "          await google.colab.kernel.invokeFunction('convertToInteractive',\n",
              "                                                    [key], {});\n",
              "        if (!dataTable) return;\n",
              "\n",
              "        const docLinkHtml = 'Like what you see? Visit the ' +\n",
              "          '<a target=\"_blank\" href=https://colab.research.google.com/notebooks/data_table.ipynb>data table notebook</a>'\n",
              "          + ' to learn more about interactive tables.';\n",
              "        element.innerHTML = '';\n",
              "        dataTable['output_type'] = 'display_data';\n",
              "        await google.colab.output.renderOutput(dataTable, element);\n",
              "        const docLink = document.createElement('div');\n",
              "        docLink.innerHTML = docLinkHtml;\n",
              "        element.appendChild(docLink);\n",
              "      }\n",
              "    </script>\n",
              "  </div>\n",
              "\n",
              "\n",
              "<div id=\"df-355a46d1-1d43-4e93-b5e2-b2c1e5c29932\">\n",
              "  <button class=\"colab-df-quickchart\" onclick=\"quickchart('df-355a46d1-1d43-4e93-b5e2-b2c1e5c29932')\"\n",
              "            title=\"Suggest charts\"\n",
              "            style=\"display:none;\">\n",
              "\n",
              "<svg xmlns=\"http://www.w3.org/2000/svg\" height=\"24px\"viewBox=\"0 0 24 24\"\n",
              "     width=\"24px\">\n",
              "    <g>\n",
              "        <path d=\"M19 3H5c-1.1 0-2 .9-2 2v14c0 1.1.9 2 2 2h14c1.1 0 2-.9 2-2V5c0-1.1-.9-2-2-2zM9 17H7v-7h2v7zm4 0h-2V7h2v10zm4 0h-2v-4h2v4z\"/>\n",
              "    </g>\n",
              "</svg>\n",
              "  </button>\n",
              "\n",
              "<style>\n",
              "  .colab-df-quickchart {\n",
              "      --bg-color: #E8F0FE;\n",
              "      --fill-color: #1967D2;\n",
              "      --hover-bg-color: #E2EBFA;\n",
              "      --hover-fill-color: #174EA6;\n",
              "      --disabled-fill-color: #AAA;\n",
              "      --disabled-bg-color: #DDD;\n",
              "  }\n",
              "\n",
              "  [theme=dark] .colab-df-quickchart {\n",
              "      --bg-color: #3B4455;\n",
              "      --fill-color: #D2E3FC;\n",
              "      --hover-bg-color: #434B5C;\n",
              "      --hover-fill-color: #FFFFFF;\n",
              "      --disabled-bg-color: #3B4455;\n",
              "      --disabled-fill-color: #666;\n",
              "  }\n",
              "\n",
              "  .colab-df-quickchart {\n",
              "    background-color: var(--bg-color);\n",
              "    border: none;\n",
              "    border-radius: 50%;\n",
              "    cursor: pointer;\n",
              "    display: none;\n",
              "    fill: var(--fill-color);\n",
              "    height: 32px;\n",
              "    padding: 0;\n",
              "    width: 32px;\n",
              "  }\n",
              "\n",
              "  .colab-df-quickchart:hover {\n",
              "    background-color: var(--hover-bg-color);\n",
              "    box-shadow: 0 1px 2px rgba(60, 64, 67, 0.3), 0 1px 3px 1px rgba(60, 64, 67, 0.15);\n",
              "    fill: var(--button-hover-fill-color);\n",
              "  }\n",
              "\n",
              "  .colab-df-quickchart-complete:disabled,\n",
              "  .colab-df-quickchart-complete:disabled:hover {\n",
              "    background-color: var(--disabled-bg-color);\n",
              "    fill: var(--disabled-fill-color);\n",
              "    box-shadow: none;\n",
              "  }\n",
              "\n",
              "  .colab-df-spinner {\n",
              "    border: 2px solid var(--fill-color);\n",
              "    border-color: transparent;\n",
              "    border-bottom-color: var(--fill-color);\n",
              "    animation:\n",
              "      spin 1s steps(1) infinite;\n",
              "  }\n",
              "\n",
              "  @keyframes spin {\n",
              "    0% {\n",
              "      border-color: transparent;\n",
              "      border-bottom-color: var(--fill-color);\n",
              "      border-left-color: var(--fill-color);\n",
              "    }\n",
              "    20% {\n",
              "      border-color: transparent;\n",
              "      border-left-color: var(--fill-color);\n",
              "      border-top-color: var(--fill-color);\n",
              "    }\n",
              "    30% {\n",
              "      border-color: transparent;\n",
              "      border-left-color: var(--fill-color);\n",
              "      border-top-color: var(--fill-color);\n",
              "      border-right-color: var(--fill-color);\n",
              "    }\n",
              "    40% {\n",
              "      border-color: transparent;\n",
              "      border-right-color: var(--fill-color);\n",
              "      border-top-color: var(--fill-color);\n",
              "    }\n",
              "    60% {\n",
              "      border-color: transparent;\n",
              "      border-right-color: var(--fill-color);\n",
              "    }\n",
              "    80% {\n",
              "      border-color: transparent;\n",
              "      border-right-color: var(--fill-color);\n",
              "      border-bottom-color: var(--fill-color);\n",
              "    }\n",
              "    90% {\n",
              "      border-color: transparent;\n",
              "      border-bottom-color: var(--fill-color);\n",
              "    }\n",
              "  }\n",
              "</style>\n",
              "\n",
              "  <script>\n",
              "    async function quickchart(key) {\n",
              "      const quickchartButtonEl =\n",
              "        document.querySelector('#' + key + ' button');\n",
              "      quickchartButtonEl.disabled = true;  // To prevent multiple clicks.\n",
              "      quickchartButtonEl.classList.add('colab-df-spinner');\n",
              "      try {\n",
              "        const charts = await google.colab.kernel.invokeFunction(\n",
              "            'suggestCharts', [key], {});\n",
              "      } catch (error) {\n",
              "        console.error('Error during call to suggestCharts:', error);\n",
              "      }\n",
              "      quickchartButtonEl.classList.remove('colab-df-spinner');\n",
              "      quickchartButtonEl.classList.add('colab-df-quickchart-complete');\n",
              "    }\n",
              "    (() => {\n",
              "      let quickchartButtonEl =\n",
              "        document.querySelector('#df-355a46d1-1d43-4e93-b5e2-b2c1e5c29932 button');\n",
              "      quickchartButtonEl.style.display =\n",
              "        google.colab.kernel.accessAllowed ? 'block' : 'none';\n",
              "    })();\n",
              "  </script>\n",
              "</div>\n",
              "\n",
              "    </div>\n",
              "  </div>\n"
            ],
            "application/vnd.google.colaboratory.intrinsic+json": {
              "type": "dataframe",
              "variable_name": "df",
              "summary": "{\n  \"name\": \"df\",\n  \"rows\": 35999,\n  \"fields\": [\n    {\n      \"column\": \"Unnamed: 0\",\n      \"properties\": {\n        \"dtype\": \"string\",\n        \"num_unique_values\": 35999,\n        \"samples\": [\n          \"0002247/1863/1226/0002247_18631226_art0014_metadata.xml\",\n          \"0002247/1865/1216/0002247_18651216_art0059_metadata.xml\",\n          \"0002247/1866/0217/0002247_18660217_art0055_metadata.xml\"\n        ],\n        \"semantic_type\": \"\",\n        \"description\": \"\"\n      }\n    },\n    {\n      \"column\": \"title\",\n      \"properties\": {\n        \"dtype\": \"string\",\n        \"num_unique_values\": 20125,\n        \"samples\": [\n          \"HORRIBLE WIFE MURDER.\",\n          \"IMMIAL rAta,n.mgn.\",\n          \"cannot (\"\n        ],\n        \"semantic_type\": \"\",\n        \"description\": \"\"\n      }\n    },\n    {\n      \"column\": \"item_type\",\n      \"properties\": {\n        \"dtype\": \"category\",\n        \"num_unique_values\": 2,\n        \"samples\": [\n          \"ADVERT\",\n          \"ARTICLE\"\n        ],\n        \"semantic_type\": \"\",\n        \"description\": \"\"\n      }\n    },\n    {\n      \"column\": \"ocr_quality_mean\",\n      \"properties\": {\n        \"dtype\": \"number\",\n        \"std\": 0.09495783306877406,\n        \"min\": 0.03,\n        \"max\": 1.0,\n        \"num_unique_values\": 2755,\n        \"samples\": [\n          0.6608,\n          0.8629\n        ],\n        \"semantic_type\": \"\",\n        \"description\": \"\"\n      }\n    },\n    {\n      \"column\": \"date\",\n      \"properties\": {\n        \"dtype\": \"object\",\n        \"num_unique_values\": 385,\n        \"samples\": [\n          \"1868-01-25\",\n          \"1868-04-11\"\n        ],\n        \"semantic_type\": \"\",\n        \"description\": \"\"\n      }\n    },\n    {\n      \"column\": \"content\",\n      \"properties\": {\n        \"dtype\": \"string\",\n        \"num_unique_values\": 35109,\n        \"samples\": [\n          \"DASTARDLY ATTEMPT AT EXTORTION.\\n\\nA peculiar case came before the Marylebone police.;\\ncourt on Saturday. Two young men, Horatio Crack-\\nnell, seventeen, and Robert Walker, nineteen, both well\\ndressed, were charged with attempting to extort \\u00a34O\\nfrom Mr. Henry ,Cordell Juler, a physician in large\\npractice, and a governor of St. Mary's Hospital. The\\ntwo prisoners called on. Mr. Juler one evening, and after\\naccusing him of an infamous crime, said they would not\\nprosecute if he would give them hush-money. Mr.\\nJuler was perfectly dumbfounded at the charge made\\nagainst him, and. uncertain how to act, but ultimately\\nhe arranged to meet the prisoners at his house on\\nanother evening. He then informed his son of every-\\nthing which had happened. The result of this was that\\nyoung Mr. Juler hid himself behind the curtains in the\\ndrawing-room during the time the complainant had a\\nsecond interview with the prisoners. They asked \\u00a34O\\nas a bribe for remaining silent, and, aften some conver-\\nsation, Cracknell wrote a document, and signed it, and\\nWalker also signed it, which was to the effect that for the\\nsum of \\u00a34O they would keep the matter a profound\\nseeret. Mr. Juler, after obtaining possession of the\\ndocument, seat for a police-constable and gave the\\nprisoners into. custody. Mr. Mansfield remanded the\\ncase.\\n\",\n          \"--\\n\\n.0*\\\"\\nik` _\\n\\nMONA' AND SHARES.\\n1 Consols 'neve been Much affected by political rumours\\n! since Thursday last. These, reports are entirely dis-\\nconnected from- domestic politics. Dealers in home\\nseninitreslive .no importance to the Reform Bill die-\\ncus,ions either in one or another Way. Hostilities on\\nthe Continent are dreaded because they would involve Ise ithi\\na large eependiture of money which could only be met -.7t.\\nby-new lo,ins. Console on 'Sattrday reachelthe lowest.\\n---\\\"c, \\\"the\\nh4e. rio .att,tine'd 'during; this depr \\u2018eisSii, being .\\nIs.\\n'quoted'at 84 to 86 cash; improving :i on Monday, and\\non Tuesdey, closing for that day at 863 e, to 861.-- cash.\\nMoney has exhibited no change, ordinary discounting\\nbeing done at the Bank of England minimum of 6 per\\ncent., and short loans on the Stock Exchange with Goe -\\nvemment Securities being obtainable at 41 to 5 'Per\\n/cent. Banking arid finance shares are very Much de-\\npremed. The financial compagies which were one.and\\ntwo years ago at a premium of \\u00a38 to \\u00a3l2 per share, are\\nnow at par, or worse still, at a discount. Even\\nOverend, Gurney, and Company's shares so very\\nrecently at a premium of \\u00a35 to \\u00a36, have been under\\n, par. The Alliance Banking Company, who have only\\nrecently entered in magnificent and new premises in\\nThreadneedle street, once,,and not long ago, commanded\\na premium Of 18 to 20 per share, and have been pushed\\n,under par. All banking and monetary shares, almost\\nwithout exception, have been depressed during this and\\nlast week. Holders, who do not require to sell, ma\\n\\u2018, ;\\nconsider this fall only noilinal, but others who Irt: 1,\\nobliged to use their secueities Mr prieent parposes, must' '\\nsuftsr terribly'. ' --r Jr....-s in that class must begin to\\n'consider the causes of these irregularities. Many com-\\npanies suffer from thoroughly imprudent management\\nand the insatiable preference of large dividends over\\nlarge reserves; but but\\u2022iness of all descriptions is\\ncrippled by the currency laws; and so long as 20 to 30\\nrich. men can make a crisis, which pays them admirably,\\nby a foreign transaction, leading to the exportation of\\ntwo or three millions in kold, so long must the general\\nbusiness of the country be partially under the heels of\\nlarge capitalists. .\\ni The junction of the London, Chatham, and Dover\\nRailway Company with the South-Eastern Company is\\nanother example the manner in which the public pay\\nor ,bad legislation. Every requisite accommodation,\\nsupplied by the two companies clulel have been ob-\\ntained for half the 'money paid for the necessary and the\\nunnecessary works. Contractors have made large gains,\\nor large losses, especially, in the London, Chatham, and,\\nDover lines, having taken great risks. After the an-\\nnouncement of the junetion between the companies their\\nstock, with \\u00a3lOO paid-up, sold at, for Landon, Chatham,\\nand-Dovers, \\u00a33l 10s. ; South-Eastern; \\u00a375; maeing\\ntogether \\u00a3lO6 for \\u00a32OO paid, so that the opinion\\nnt\\n:f\\nall\\nbuyers and sellers accords with our statement t\\nthe accommodation afforded by both lines, ore mall\\natnheayt\\nwill pay, could have been obtained for half th\\nstink, and on all of which, in the end, the public will be\\ncompelled to provide\\n,foye return.\\n- The London and South African 13 ilk invite tenders\\nfor \\u00a350,000, in surns of fromroadsnear Durban, theos tOeesoo for the im-\\nprovement of drainage ' mid 0\\neapital of Natal. The money is repayable i\\ns leinthe general 40 years;\\nthe interest is 8 per cent., and the security .\\nrevenue of the Durban eorporation, upon which there\\nis a Charge of 'X5,000\\nene 1,875 acres of the town\\n'lands unencumbered. ,\\nthe rapid rate of increa\\nse\\ne\\nex-\\nperienced in the valeethese new\\nplaces, the security set 8 per cent. is 14,000.\\nThe directors f seems\\ngood, although the annual\\ninterest of \\u00a350,0600 a\\nthe Commercial Bank of India and\\nthe East published a plain statement of losses this week\\nSan Francisco, and Bombay,, amounting to\\nThe directors had no dividend,' as a conse-\\nalt26Soh,a2n3g3h.ai\\nquen( e, to offer, and 'Oil Tuesday their shares were\\nquoted at a decline of \\u00a34. The Bank- is said to have a\\npaid-up capital of one million sterling in shares of \\u00a325\\neach, which were previously sold fox a little under par,\\nsay Ye 24\\\"\\n1 The Oriental Corporation, one orthe old Eastern\\nbanks, has reduced its dividend for the last half-year to\\n10 per cent., in consequence of heavy losses in the\\n\\u2022 difficulties of last seasons, caused by the -relapse in the\\nprice of\\n,produce. Sineklar difficulties may arise from\\nthe recent decline in the valu,e of cotton which has,\\nhowever, been partially recovered, although some loss\\nis probable on all_\\nthe expeets of that comoeodity from\\nthe Eastern\\nports (luring. the past months of the cur-\\n-1 rent yeav,\\nI \\u2022 In\\u2022additioll, to the scuadal in the-Qom or the Cork\\n\\n. -. ... .\\n-\\n01111\\u202211.11\\u2022101 M.\\n\\u2022.....,....\\nend Ycitighei Railway Company, tnithorinett to raise\\n\\u00a3500,000 by .shares on debentures; but by its directors .\\nconverted into \\u00a3920,600; the Carmarthen andeCardig ADVANI\\nRailway Company, empowered to raise \\u00a3393,400, ha .. .\\ngot \\u00a3981,968, and both, companies are in court. Pr DELEGA'\\nceedines of this character resemble swindling, an\\nwould be thought badly of in a workingman's society:. On Wed\\nThe Bank of England's return to yelliterdey evening\\nshows-- \\u2022 ingot' can\\n1 jthibibeibEillolre\\nNotes in reserve ....\\nfl '\\ne..hvoeurry osno.ctilie\\nDecrease on the week 579,765\\ni rt .\\n:a:eo2ei\\ntmTleat2tmi\\nler:\\ndegn.i\\n.teg.:,ae:reel\\n, Bullion\\nDecrease on the week . 345,006\\nIn these, circumstances DO alteration is expected in\\nthe minimum -rate of diecouxt. The suspension of\\nDarned and Company\\n,(Limited), bankers, Liverpool, is chair.\\na serious misfortune. The compeny was formed ten\\nmonths ago with the business- of. an old prieate bank.\\nIts nominal capital is two million; in shares of \\u00a35O, evening to\\non which only \\u00a3lO has been paid., Consols that were\\n85Z- on Saturday, are 86 this this evening. ! - \\u2022\\n~\\ni The Chu\\nTROPICAL PRODUCE. , , .\\n. The sales of teas during the present week have been e..\\nwho had n\\non an extensive scale, but without producing any circular an\\nchange in prices. , Nearly all the new Indian tea grow-\\ning companies have their shares marked at a discount, of6.cial off\\n..Dnin4l,,cenefayeared economically nialorged they Will\\nletter nemei,\\nprodiecesMe ffe%tirernwpfee \\u2022 ' einem. Coffee sells\\n' tiC3ll, aleri.h\\u20ac\\nrather better, and has sligh -anced in price. arms'.,Wouk\\nth\\nThere ie no alteration in e demand 10 rice or ies pletty gene\\nvalue. Sugars are 10s. per ton lower. ' . ' 1 '----- lain he hop\\nGENERI.4., BErSINES9. !\\ndelegates h\\n- The Governors (nettle Bethlern Hospital have 'inside the \\u2022\\n- opin\\na very good sale of Some property near the Liverpool (Ilear,) e)/\\nstreet Station of the North of London Reilwey, . The\\nGreat. Eastern Company want to neake\\u2022 si junction with\\ntb.eTheheiel:tte,elt:'\\nPriaa 1 \\\"\\nthe North of London 'lithe City, and re \\u2022ed - this\\neuir\\nhouse,pooperty for their new station.\\nThe Governors of :the Hospital sought . \\u2022 96,000 ' Which hse e\\n, them- th\\nThe Directers,of the Comeaey offered . at,\\n. . 48,000 . Pc63-tecl a -\\n'II - \\u2022 ve awarded . e..\\n.. . 61,000 ' 4i to eo .et\\n\\u2022ng of th'e Gevernors:by eA, -.. 35.000 timer\\nMedea,\\ngof the Directors by.e.o. ', 13,000 - \\u2022 _ke\\non o cite\\n~,,,\\nnever worth the money to the hoopi-\\nztoot::b\\ne_of,sc\\n. had 20 years to ron, hut as the value to\\nenc\\\"tain\\neene,\\nof al ands,is rising in the City, the gover- A.,_\\n......r,\\n...dociation\\nnors at ytheis entitled to the fell and even the\\nprobable worth of their\\u2022posse,sions. \\\"' '\\n',tree, winte\\nCORN AND PROVISION-S. . alteratiOns t\\nThe importation of all descriptions of . grain to our'\\n84Ps. If t\\nPorts for, the:week,encling on last Saturday was. 48,669\\n\\u201eiri 'the wini\\ntons, and the\\u2022average price of Engliah wneat was 445. sd; etre 'next .\\nper quarten\\u2022ld..lovver than' atkhe same date of 1863 e.) the elan f\\u201e\\nand: 4s. 4d. higher than, in 1864 and' .1865 vilien' the' . ther`eVe-nin-5\\n~\\naverages were equal. Whean b\\nwae for eooll qualities 1.4.) \\u2022 that the off\\nper quarter higher in our market on Monday, and corn- ' and ought t 4\\nmon or' inferior wheat was ' held for. the 'rates of the lilt. Myerse\\nprevious week. 'ln Liverpool, on Trtenefk a -.Timer' the Opinion\\nfeeling was evinced and better piket c weiVrielisech were acting\\naiw,nia:deetr:dieetilweagnwai\\n. One order in council by probibiling the importation, i\\nof stock from Holland raised prices last week and an- a positive a.\\n, other order Kobe-biting the transmission of imported' I ` day'. - (Chee\\nbeasts to theeprUirices has rbdilecidi pribps this week AI 'The' Del(\\n,\\nfro. ,d. to lid. on beef and muttereof difftipiit qualities,- ' e men) stated\\nF ' ie present week prices are at the ' average 'of the\\nlast two years. The disease rather,' deblines in this vete also r\\ncountry, but 'imported animals either bring it, or take \\u00b0'was 2\\n,\\nit, in many instances, and the order 'preventing their e' shop ineetin\\ntransmission to the country seems necessaiye\\nMANUFACTURES AND MATERIALS. ' that BOrne st\\nThe decline of last week in cotton was partially recovered Lune se, .\\non Monday and Tuesday by an advance .iif ed. on the\\nen-earn\\nfirst and nearly Id. on the seddric'e Of these days; but The Dei\\n8 yesterday prices again rbehrtild. The arrivals up to last tion Was s 1\\neight amounted to 154496 bales at Liverpool, and the similar en 'T\\n-ral\\nsates were .44,000 including specetlative. The cotton to\\n,e beenz\\nhand since Thursday amounted to nearly 20,000 bales'4\\n.'!Y'l Or' g Iti,!\\nof South American, nearly. 28,000 of North American, said h s\\ne sin\\nand 100,000 bales of East Indian. Bengal-ha i been quoted- doer,\\n~ , hen\\nso low as B:ide on to 14d. for the finest Smits ; Egyfdan ',nary. -\\n\\u2022 A\\nlanal ttn.:ol le\\nI te-e;ue:e1):::: r\\ntr:aultri inthiii ):aheiet:el; ersi\\n1 I\\n19 to 2a, and States 13 to 19. Goods -anti -yarns are` were s .\\nperfectly stagnant, so far as new contracts are concerned,\\nbut many manufacturers are still delivering to old Lr\\u00b04 Mr. A\\norders. Some descriptions of yarns have fallen nomin-\\nally 6cl. per lb., others 3d.nbut on fine lace yarns there . 1\\nis no quoted change of value.--3 ute has sold freely beef) -\\nduring. .this week at former rates, 16e 6d. to 255. per\\ncwt. Flax ant' Wool must, however, both be affected -\\nby the decline in cotton. . lon ed\\nagitate tin V\\n' METALS AND MIXING. \\u2022 .\\n.\\nThe lockout of the Sheffield tile-makers continues. all\\nteen i\\n, ns\\nThe men propcse to submit all differences to arbitraejlee taend that a'\\ntion, which is declined. Soo:etch pig iron has ,-,t, '4\\u2022ltalf.\\\"\\nquoted as high as 80s. to 80s. 61. on seme day.st,o\\\" 6\\n~ The rebov\\u20ac\\nchange ie reported on malleable iron. Other melee are , ntelegates fro\\ndull:, . Mr. Mill's 'etatement in the Commons of the tade reportt\\nprobable exhaustion of coal in the higher measures has . the opinion i\\nexcited many remarke'in the \\u2022prese eriantet:k daegerivae \\u2022 the masters,\\nlong ago menticned in these coltieenhe warning! \\u201ele thinking tt\\nnow given may ; induce\\n_...._....\\n:, ,\\n,t tieca.\\nit: sit I 41:3.01.\\nipj,\\n_eir:3,ce_gr,\\nii\\na:\\na:tuyi yqt:::our\\nandr\\nof coal, for in the coal districts one half more than. the' i\\nin\\nnecessary quantity is recklessly consumed. Business is I\\nsufficiently aGtive in the hardware towns to employ all\\n~ opinion app\\nhands, excepting in those cases where trade disputes \\\" accepted, if\\nhave interrupted labour. The production of steel con-\\ntinues on a large scale. \\u2022 '\\nee 8 lar\\n-------------'\\n' ' _ .le, . enould be dc\\nIMPERIAL PARLIAMEN4O:I7\\\" -4\\n'-' \\u2022 delegPteneki\\n. 4: \\u2022 . r.r,. ' ' ' t -\\n' ..e___..l , Warii;kr,\\nlIOITSE OF COMMO'NBr-ILT.nuesoei, April +\\u2022M , 13,ra,s reec\\nTHE ItErolOi'l3.iii,-1-AniOURATED DBBATE. .\\nMr. Wm.' Graham believed the measure to be just in_ \\u2022\\ns.r 0. P (22),\\nprinciple, althotigh he certaidlkshoulei rejoice had one rose__\\ndie. estor 1\\nor two provisions, been adffiit4\\u2014he meant those pro- .\\nbr,\\nnen Grosys\\nvisions referring .to tleeTisfranchisement of Government ;, t . t*i.-'l,(2:lll))l:ll),,Botp,efiatireiics,.\\nservants; and toeetWeavings' batilt,lepeisi.t. ' Notwitle- .\\u2022\\u2022\\nstanding the 'ling exceptiene, lte,befiened;'air he had\\nsaid, that'\\u2022\\nvtliierts,:just-iti pri'lreillie,'nAtierate and. gee. -toe\\nrue o an extent, and eMinently judicious in , wheele\\ni Jeb\\n..1 OnaOrt in whicheit had been introduced into this House. eel Monter (Jhe\\n\\u2014*After' 'stating that the amend- ee\\n(oppooitibn .laftil)\\nmeat of the noble lord (Grosvenor, did not refer to.the,\\nprinciple of the Bill, but to its allegt d incomPletel 1\\nness, the honourable gentleman passed on to the emote; i bar:P(3llloft olitieo\\nquestion of middle and. w\\u201eEki*,lceelegisn.tion. Mr. -Ashby 3\\u00b0l\\nGraham remaiked \\u201ethee' fn. rkr,feeltisses did not trotel\\n. (82),\\nclaim--and'he 'believed they did not wish\\u2014a predo- (2t, )At ,\\nniinance in the flOuse of Comm\\nbons. All they desired ,tesesi\\nr, Yeore,r s\\ne\\nwas an equal share\\u2014nay, they were content with much , 1 eseesyte 8\\nless than this; they were content with the Pill of.hie ,\\n.; ',:\\n,i, nele(..rnsr,7eeo,l3sB:tvriniige,rtinin(:ol:ol:,\\n,4 1,0 s (22)\\nright hon. frind, which gave thorn very much les\\u00a7 than ,7:,f)\\nan equal share of representation. (Applauss.) Many ' ' ..e -.armee\\nof the representatives of the working clas..es were', an , reon \\\"\\\"e'Tui-\\\\\\\\''''\\nhonour to that House. Great alarm wee felt w' . . :,ard (10) s G\\n~,,.. , ,\\nto an extension of the franchise but :. en e;'''' whati&e,t,\\nharm could result 'fro men such, as ti :I'. embers for 1\\u00b01) . '\\\")\\nGlasgow sittitirirrhe ~ . 8t '(36)' P.\\nreet- 6-3\\nLola Elcho then rose to .( \\u2022,. \\u2022 \\u2022\\n,I4Ou'ee;`liti'd a%ir. \\\"47\\n4 - etre ' l'unr.\\nthat be had been stru k e,\\\" i 'le s a.ste with which the et n6N, i\\nease, te )\\nGovernment had .J' i' 0 e the measure. The question\\nhad been teeatee,efi i an. impulsive and fragmentary way, eine ~..\\n\\\" -I(ea'cl 11'\\nand was alartriel at the wild sentiment/diem with which. (24), re, e\\nele\\u2022 Bill was defended in default of argument. (Opposi-\\ntion\\neh, ers.) The noble lord made a long, and bitter\\nspeech against the Bill, which he cereterded would-\\nplace the whole legislation of the conntfy in the banes .\\nA tivalaet\\n,4i, N. 6p.,\\nof the working classes, and con,ichicted with an 1.;4 Mbeth e'(l\\nt.c.,;:r\\u00b0:- Aept2.etifldlit'eyriLe 'no\\nthe\\nja:luin\\nzelperoo:t\\noreaurctrt.se, d\\nI,\\nupon Sir W. Hutt for giving\\nendment to orn (3(\\nhis constituents, and wiithictrawing his am\\n)\\nthe Bill. r ~ : way to tbe pressure of\\n' Sir W. l&itt' defended himself from.\\nof\\nattack of tfhoe\\nnoble 'Lord, and an.nounced his inten a y .\\nn them\\u00dfr.il\\u00df.l e..suaopsaen(i)tpagsed\\nme\\\"u\\\"ill, and\\nwere\\niee ulof and /4\\n: rP:me ,a rtbheud:ipttinohr liel.l\\ntte know betten e esf'\\nway in which the workin\\nin support of the Bill .as antee'ne nine '\\nt hg :cop,\\naisfge rho( )1\\u00b0\\nr m '\\npetted by certabinespesopp(l:zew\\nMr. T. Hug\\nhonest measure of reform.\\nMr. Doelton opposed the wtil, as not being\\n:ftilobtaleeletnolc,\\npidtenhr. flgat\\npt. dota,:ti\\nof real reformers. . - lng\\nr Gibson een e e Government.\\nd f d d tla\\nthe expi\\u2018ercitcaeti\\nleArerj, G. 'lardy supported the amen hpit. in a long \\u2022 , hien to be pti\\nspeech. .e\\nThe debate was then adjourned.,\\nHOUSE OF COMMONS --TiLIDAY, APRIL 20. , The Deleg\\n, . - THE REro3.SI.'DEBATE. . -, .\\nI\\nThe adjoorued debate did not begin until a late honr ' eitera Jackso\\n, oveilar one 1\\nVe'ftee willir\\nthis evening, the preliminary business being heavy. It\\n' was opened by\\nI'llde t\\nthf, .rs 0 r\\nMr. E. L. Gower, who spoke strongly in favour of\\n- tittle of\\nt\\nthe bill. . \\u2022 ' 411,1\\n. j5l 011 out-d\\nMr. Gregory (Liberal) supported the amendment.\\n.e;t of Fehr\\nMr. Young, the Solicitor-General for Scotland,\\n1 'he D\\n,\\n14: elegi\\nsupported the bill, denying that it was either a ravo- , -\\nlutionary or democrntic measure.\\nDro\\u201e - iielet,\\n' Sir S. Northeote opposed the bill, b&ieving that the .: 1,\\nros -\\nt Qd as\\n--\\nGovernment bad not treated the House in a fair manner. , ees\\nMr. Coleridge .spoke in suppOrt of the bill, and ,\\nthe aspersioes thrown Ilipt b ' Pro/\\nt..2.N:',.'otits pE\\ndefended the working classes from\\naanpdolitiete;rettald.ittahtoatr Ilk 4 huilei\\nUpon them. Ir \\u2022 k tees\\nnt). \\u201eht tc\\nand t,he\\nMr. Horsnaan supported the bilonf\\neadterhernofsetlhveesbilein:utmsheee' ' Ao'\\u2022 Pkid fo\\n4t,\\\"(4.11 \\u2022\\na Minister of the Crown\\n11,1 . I\\n'cal o'\\nhad condescended to act the part\\nfelt\\nTe'scl the\\nand. had, therefore- l'tee e 4-1\\nout of doors. The\\nmen,\\n%nee\\\" ' eg\\nposition of beaten .\\nThe lion, member' \\\"iv' vl l' \\\" a\\ne sp'eeela was\\not.4ll4l'gates\\ndesperate and reckless. e\\nthen took place between Mr. ItontNlea\\neyeene:\\nloudly cheered by the Opposer ,\\n. A sheep coutr\\ner\\nGladstoue and 3, \\u2022 Disraeli as to the time w nen the 04 %\\nti 4 to 14g r\\ne ten gat (\\ndebate should bheobrnouogohset tioaeainclosheo.\\nirAieldn'tDo iasraneeloiispiorno: at% ezid\\nco b ed\\ntested againet\\na' ele\\nespecially after Mr. Gladstone 's out-of-door speaking, ak,\\nvvhich many hon. members *ere desirous of reply- d ei,,,\\nth: 6'. . jog to. . es.\\nMr. Bright then moved the adjournment of the debate, ee \\u00b0 \\\"as **\\nIfld Ilet\\nwhich was agreed to. , th, eerio\\n. 911 est\\u2022 4\\n'\\nI tap e eh \\u2022\\n-tlte\\n4.44 i.O the\\n413\\u00b011t ablriael\\nO. ne- eozel\\ntelee're nearl\\n\\n, \\u2022\\n\\n\\nTHE WAGES NOVE3I4NT IN THE Buu,nrNG\\nTRADE.-\\n(To the Editor of the r\\u00dfee\\u00dfivE.)--*,\\u2014Since our repoit\\nat the Carpenters and Jolliet* :eting on Wednesday,\\ntwo delegates from the Bricklayers have waited on Mc-\\nA.lditi, and he is willing to adopt the terms of the other:\\nemployers.\\u2014Thu DzI4ECWRE from 441)/1.1,s firm, soiltr4\\nKeinington,\\n\\nii\\n\\nletit\\nleTid4tiltts\\nlegafbl%lt\\n-Le ,\\n4 ht\\n\"\n        ],\n        \"semantic_type\": \"\",\n        \"description\": \"\"\n      }\n    }\n  ]\n}"
            }
          },
          "metadata": {},
          "execution_count": 8
        }
      ],
      "source": [
        "df = pd.read_csv('0002247.csv')\n",
        "df.head(3)"
      ]
    },
    {
      "cell_type": "code",
      "execution_count": null,
      "metadata": {
        "id": "tE6fnaaRZgzU",
        "outputId": "6c0c8181-fac5-4605-bd11-cd07fb4c2f60",
        "colab": {
          "base_uri": "https://localhost:8080/"
        }
      },
      "outputs": [
        {
          "output_type": "execute_result",
          "data": {
            "text/plain": [
              "(35999, 6)"
            ]
          },
          "metadata": {},
          "execution_count": 9
        }
      ],
      "source": [
        "df.shape"
      ]
    },
    {
      "cell_type": "markdown",
      "source": [
        "### Issues with the data\n",
        "\n",
        "- Segmentation: [\"what is an article\"](https://docs.google.com/document/d/1fbfWaDx6P-VV09j7pC__Rez_WVJOnnhq4RS-yiQ-XBM/edit?usp=sharing)\n",
        "- OCR Quality: 6ibb*riSH?"
      ],
      "metadata": {
        "id": "UfboO4p5V-T6"
      }
    },
    {
      "cell_type": "code",
      "source": [
        "print(df.iloc[0].content)"
      ],
      "metadata": {
        "id": "QWBTwEBXWjr_",
        "outputId": "abbb1171-d8f6-4f78-ff51-946357b4a197",
        "colab": {
          "base_uri": "https://localhost:8080/"
        }
      },
      "execution_count": null,
      "outputs": [
        {
          "output_type": "stream",
          "name": "stdout",
          "text": [
            "new EDIN BORO\n",
            "the fa3hionable Oliva an 4 Brown\n",
            "is, and fa,:ed 30s ,\n",
            "\n",
            "lew GLADSTONB\n",
            "\n",
            "elegant and anterior Garment, cut\n",
            "s extant, and in a large variety of\n",
            "ded, and Seams 355.\n",
            "\n"
          ]
        }
      ]
    },
    {
      "cell_type": "code",
      "source": [
        "print(df.iloc[10].content)"
      ],
      "metadata": {
        "id": "Fxb-mdLRW0PS",
        "outputId": "4cb9fc17-c8d2-4abf-8d2a-e817fdd59a98",
        "colab": {
          "base_uri": "https://localhost:8080/"
        }
      },
      "execution_count": null,
      "outputs": [
        {
          "output_type": "stream",
          "name": "stdout",
          "text": [
            "BIRMINGHAM.\n",
            "\n",
            "THE GUN TRADE.—A meeting of operatives engaged\n",
            "in the small arms manufacture, and who tire resident\n",
            "in the Small Heath district of Birmingham, was held on\n",
            "Tuesday nicht, \" to consider what steps shall be taken\n",
            "to reduce the Government small arms factory at En-\n",
            "field, and thus bring the trade back to Birmingham. \"\n",
            "Mr. E. Frazer presided. The chairman complained in\n",
            "gcneral terms of the circumstance of the Government\n",
            "having become manufacturers ; he suggested that rather\n",
            "than the present system should continue it would be\n",
            "desirable that all Government work should be thrown\n",
            "open to general competition. A Mr. Monk next ad-\n",
            "'dressed the meeting. He alluded to the recent deputation\n",
            "to London to hold conference with Mr. Bright and other\n",
            "local members of the Legislature, and said that the\n",
            "continuance of the Enfield minnfactory threatened the\n",
            "extinction of the small arms trade in Birmingham,\n",
            "where it has flourished for a period of nearly 200 years.\n",
            "He counselled all present to give their assistance in\n",
            "carrying on the agitation which it is proposed to com-\n",
            "mence against Government monopoly. Mr. Gardiner,\n",
            "who formed one of the recent deputation to Mr. Bright\n",
            "and others, spoke in a similar strain. Ultimately the\n",
            "following memorial was adopted : \" To the Right\n",
            "Hon. Edward Cardwell, Secratary at War.— The\n",
            "humble memorial of the operative gunmakers and\n",
            "others, of Small Heath, showeth—That the small arms\n",
            "trade ot Birmingham, a once flourishing industry, has\n",
            "gradually sunk into a state of heavy depression, and\n",
            "yometmraoceriaabllieststobetlhieevfeolliotwis decline of prosperity\n",
            "clearly is\n",
            ",\n",
            "The Royal manufacturing establishment of small firms\n",
            "at Enfield. This establishment, originally intended\n",
            "by the Government as a model factory, has g:adually\n",
            "extendedits operations so as, in a great measure, to\n",
            "absorb the orders formerly given to the contractors for\n",
            "\n",
            "small arms in Birmingham. Your memorialists be-\n",
            "lieve the -existence of such an establishment on so\n",
            "large a scale incompatible with true economy and op-\n",
            "posed to the true interests of the country, by dis-\n",
            "couraging the private manufacturer, thus preventing his\n",
            "being prepared to give assistance when required in a\n",
            "period of emergency. Secondly,—The manufacture\n",
            "at Enfield of the arms required for the military servide\n",
            "in India and the colonies. A few years ago the arms\n",
            "for these services were obtained exclusively from the\n",
            "trade, and the demand not only encouraged skilled\n",
            "labour in the gun trade but mitigated the consequences\n",
            "occasioned by the fluctuating character of the order\n",
            "given out by the Home Government, Your memorial-\n",
            "ists regret to inform you that do distress existing in\n",
            "the trade at the pi esent time is marked by a severity\n",
            "and length of duration unexampled for many years.\n",
            "It is, they hope, unnecessary to dwell upon the efficient\n",
            "services rendered by the gun trade to the Government\n",
            "in times of great emergency. At the present time the\n",
            "small arms trade is fully equal to any demand that\n",
            "can arise. Your memorialists earnestly hope that some\n",
            "st-ps may he taken cAlculated to mitigate the evils under\n",
            "which they are Buffering. \"\n",
            "\n",
            "EDINBURGH.\n",
            "\n",
            "THE SHORT-TIME MOVEMENT,\n",
            "\n",
            "A public meeting of the working men of Edinburgh,\n",
            "under the auspices of the United Trades' Council, was\n",
            "held on the 10th inst. in the Queen-street Hall. There\n",
            "was a large attendance, and the chair was occupied by\n",
            "Mr. Charles Scott, advocate. . .\n",
            "\n",
            "Mr. Andrew Dowle, mason. proposed—\" That, in the\n",
            "opinion of this meeting the adoption of 51 hours per\n",
            "week is the only practical method to give employment\n",
            "to surplus labour, and thereby enabling the working\n",
            "men to influence the labour market in their favour, so\n",
            "RS to secure a more reasonable share of the wealth\n",
            "which their labour produces, and thus prevent the\n",
            "working men from sinking into processes of social and\n",
            "national deterioration which will eventually subvert the\n",
            "the best interests of the community.\"\n",
            "Mr. Anderson, plasterer, seconded the resolueon\n",
            "which was seconded. _ _ _\n",
            "\n",
            "Mr. Paterson, secretary to he Joiners' Association,\n",
            "next addressed the meeting, giving an account of the\n",
            "extent to which the nine hours' movernent had been\n",
            "adopted by the joiners, and of the efforts no., making\n",
            "in various towns to secure its adoption. He summed\n",
            "r p his remarks on that subject by stating that though\n",
            "the joiners had not made such rapid progress with the\n",
            "nine-hours' movement as the masons and plasterers had\n",
            "done, their progress had been on the whole satisfactory,\n",
            "and there was every prospect that they would embrace\n",
            "the whole trade in Scotland in the nine-hours'. move-\n",
            "ment. _ _\n",
            "\n",
            "Mr. Andrew Dewar, blacksmith, moved—\" That in\n",
            "order to establish permanently the short-time move-\n",
            "ment as embodied in the first resolution, this meeting\n",
            "recommend that the movement should be of a national\n",
            "character, believing that it will enable the working\n",
            "classes more thoroughly te embrace opportunities for\n",
            "self-improvement, which is essential not only to indivi-\n",
            "dual but to national life.\n",
            "Mr. Cobb, tailor, seconded the resolution, which wall\n",
            "supported by Mr. Wilson, engineer, find carried.\n",
            "Mr. Robert Gray, glassblower, moved that it be re-\n",
            "mitted to the United Trades' Council to draw up a\n",
            "circular in the name of their constituents embodying\n",
            "these resolutions along INith ascertained facts relating\n",
            "to the reduetion of the hours of labour, and that the\n",
            "same be issued to all organised bodies of working men\n",
            "in the United Kingdom, asking their co-operation in\n",
            "carrying out this movement to a successful WM.\n",
            "Mr. Jackson, shoemaker, seconded the resolution,\n",
            "which was agreel to.\n",
            "On the motion of Mr. Todd, printer, a heartrrote of\n",
            "thanks was awarded to thechairmaa for presiding.\n",
            "The wetting then separated.\n",
            "\n",
            "DERBY.\n",
            "THE BUILDING TRADZS.\n",
            "\n",
            "• The joiners have sent the masters a notice at the\n",
            "proper time for an advance of wages. It was directed\n",
            "to the Secretary of the General Builders' Association.\n",
            "The masters agreed to consider the subject the next\n",
            "meeting, when they appointed a deputation to meet a\n",
            "deputation from joiners. The bricklayers here have\n",
            "also just given.notioeifor anotherradvance.\n",
            "\n",
            "STOCICTON.\n",
            "\n",
            "MEETING OF momvnwzmust AT STOONTON-ON-TEES.\n",
            "\n",
            "On Monday worniugfa 'meeting of the ironworkers\n",
            "of Stockton was held in the Temperance Hall. There ,\n",
            "was a large attendance. Mr. Shadrach Morgan in the\n",
            "chair. The meeting was called for the purpose of\n",
            "electing two representatives to attend the meetings of\n",
            "the Board of Arbitration and Conciliation. After\n",
            "some discussion Mr. . Joseph Lansdown was unani-\n",
            "mously appointed for the malleable ironworkers, and\n",
            "Mr. Thomas Gibbon for the rail mill men. The reports\n",
            "of the preceding meeting of masters and men were read\n",
            "A\n",
            "and gave satisfaction to the men generally. The rules\n",
            "were also read and confirmed by the meeting. It is ex-\n",
            "pected that the wages question will be finally settled\n",
            "at the' meeting to be held at Darlington on next\n",
            "Monday.\n",
            "\n",
            "STAFFORDSHIRE POTTERIES.\n",
            "\n",
            "CONFERENCE ON THE FORMATION OF A TRADES COUNCIL.\n",
            "\n",
            "PROPOSED RULES.\n",
            "On Monday evening the adjourned conference was\n",
            "held in the Examiner office Hanley. The Holloware\n",
            "Pressers, Ovenmen, Flatpressers, Turners, Mould-\n",
            "makers were represented, Mr. E. Jackson, was called\n",
            "to the chair.\n",
            "Mr. Owen read over a number of rules that he\n",
            "thought would snit the Council, which were in part\n",
            "the rules that had appeared in a letter in the Examiner.\n",
            "The following list of rules were then adopted, each\n",
            "rule being subjected to a veryscarching and cigorous\n",
            "dissection and discussion before being adopted.\n",
            "\n"
          ]
        }
      ]
    },
    {
      "cell_type": "markdown",
      "metadata": {
        "id": "JYvK2zSTcUg4"
      },
      "source": [
        "### Process data\n",
        "\n",
        "To facilitate the analysis we divide the newspaper articles into smaller, hopefully more meaningful chunks of 250 words (with a 25-word overlap).\n",
        "\n",
        "- We split by proxy-article (i.e. double hard returns)\n",
        "- remove single hard returns within the proxy-articles"
      ]
    },
    {
      "cell_type": "code",
      "execution_count": null,
      "metadata": {
        "id": "fE6QOcPqaf1I"
      },
      "outputs": [],
      "source": [
        "def get_chunks(text: str, size: int=250,step: int=50) -> list:\n",
        "  \"\"\"divide a text into chunks of similar size\n",
        "  Arguments:\n",
        "    text (str): input text\n",
        "    size (int): number of tokens in each chunk\n",
        "    step (int): step size\n",
        "  Returns a list of strings\n",
        "  \"\"\"\n",
        "  words = text.split()\n",
        "  return [' '.join(words[i:i+size]) for i in range(0,len(words),step)]"
      ]
    },
    {
      "cell_type": "code",
      "source": [
        "# split by proxy-article\n",
        "df['elements'] = df.content.apply(lambda x: [' '.join(ch.split('\\n')) for ch in x.split('\\n\\n')])\n",
        "# reorder the dataframe\n",
        "# with one chunk in each row\n",
        "# instead of the whole text\n",
        "df_by_element = df.explode('elements')\n",
        "# # apply chunking to text\n",
        "df_by_element['chunks'] = df_by_element.elements.apply(lambda x: get_chunks(x))\n",
        "df_chunks = df_by_element.explode('chunks')\n",
        "df_chunks.reset_index(drop=True, inplace=True)\n",
        "df_chunks.shape # wow that's a lot of chunks ;-)"
      ],
      "metadata": {
        "id": "Ochnm7BjX4_8",
        "outputId": "11e39433-e7a2-4344-83eb-15fe1500e58b",
        "colab": {
          "base_uri": "https://localhost:8080/"
        }
      },
      "execution_count": null,
      "outputs": [
        {
          "output_type": "execute_result",
          "data": {
            "text/plain": [
              "(819814, 8)"
            ]
          },
          "metadata": {},
          "execution_count": 14
        }
      ]
    },
    {
      "cell_type": "code",
      "source": [
        "len(df_by_element.iloc[110].elements),len(df_by_element.iloc[110].chunks)"
      ],
      "metadata": {
        "id": "V9x59NbKYtdY",
        "outputId": "1729607b-95e9-4abc-809e-03f3742f30d4",
        "colab": {
          "base_uri": "https://localhost:8080/"
        }
      },
      "execution_count": null,
      "outputs": [
        {
          "output_type": "execute_result",
          "data": {
            "text/plain": [
              "(2579, 9)"
            ]
          },
          "metadata": {},
          "execution_count": 28
        }
      ]
    },
    {
      "cell_type": "markdown",
      "metadata": {
        "id": "QY1ucJhFnguw"
      },
      "source": [
        "## Prompting\n",
        "\n",
        "LLM generate text from an input, usually referred to as a 'prompt', a piece of text we like the model to use as a starting point for predicting novel tokens.\n",
        "\n",
        "When 'chatting' with an LLM we usually provide the model with (at least) two messages: a system and a user prompt or message.\n",
        "\n",
        "**System message**:\n",
        "\n",
        "- **Generic instructions on behaviour**: specify how the model should behave (e.g. be helpful, respectful, neutral) or the role it should play (e.g., a teacher, assistant, or advisor).\n",
        "- **Constraints**: Specific instructions on what the model should avoid or how it should generate responses.\n",
        "- **Context**: Background information or context that remains constant throughout the session to ensure consistency.\n",
        "\n",
        "**User message**:\n",
        "\n",
        "- **Query**: specifies input from the user, such as a question, instruction, or request that the model needs to respond to.\n",
        "- **Dynamic**: changes with each interaction, reflecting the user's immediate needs, questions, or instructions.\n",
        "\n",
        "The Hugging Face chat prompt template allows messages as lists of dictionaries.\n",
        "\n",
        "```python\n",
        "messages [\n",
        " {\n",
        "    \"role\" : \"system\",\n",
        "    \"content\": \"<system prompt here>\"\n",
        " },\n",
        " {\n",
        "    \"role\" : \"user\",\n",
        "    \"content\": \"<user prompt here>\"\n",
        " }\n",
        "]\n",
        "```"
      ]
    },
    {
      "cell_type": "markdown",
      "source": [
        "## RAG by hand"
      ],
      "metadata": {
        "id": "rz8VOkeSaU_g"
      }
    },
    {
      "cell_type": "markdown",
      "metadata": {
        "id": "GNYCb3IqoRZ7"
      },
      "source": [
        "Define a message by articulating a system and user prompt."
      ]
    },
    {
      "cell_type": "code",
      "execution_count": null,
      "metadata": {
        "id": "AO5PEGlsUukK"
      },
      "outputs": [],
      "source": [
        "messages = [\n",
        "    {\n",
        "        \"role\": \"system\",\n",
        "        \"content\": \"\"\"\n",
        "          You are a helpful AI that will assist me with analysing and reading newspaper articles.\n",
        "          Read the newspaper article attentively and provide a short description of principal characters.\n",
        "          Each newspaper article is enclosed with triple hashtags (i.e. ###).\n",
        "          Don't make things up! If the information is not in the article then reply 'I don't know'\n",
        "          \"\"\"\n",
        "              },\n",
        "\n",
        "    {\n",
        "        \"role\": \"user\",\n",
        "        \"content\": f\"\"\"\n",
        "                  ###POOR T,i,ENIPAT A 1„k CT  The Poor Law Coirdnissioti(rs have issued a ei; cular,\n",
        "                  dated the 20th instant, stating that they have consulted the Attorney and\n",
        "                  Solicitor-General on the construction of the late Removal Act, and give as the\n",
        "                  result:— I. \" That the proviso to the Ist section of the 9 and 10 Vict., c. 66,\n",
        "                  which sets forth the exceptions to the principal enactments that are to be\n",
        "                  excluded in the computation of time, is net retrospective in its operation, so\n",
        "                  as to apply to cases where the five years\\' residence was complete before the statute.\n",
        "                  2. \" That an interval between the completion of the five years residence and the\n",
        "                  application for the warrant of removal filled up by one of the exceptions contained\n",
        "                  in the proviso will not p event the operation of the statute in restraining the\n",
        "                  removal of the pauper whu had resided for the specified time. 3. \" That orders\n",
        "                  of removal obtained previous to th• passing of the Act, but not then executed\n",
        "                  by the removal of the paupers,###\"\"\"\n",
        "              }\n",
        "  ]"
      ]
    },
    {
      "cell_type": "code",
      "execution_count": null,
      "metadata": {
        "id": "zh2iS37UBIOU",
        "outputId": "28e25a66-20fc-4590-cbe1-64bfb710aa0c",
        "colab": {
          "base_uri": "https://localhost:8080/"
        }
      },
      "outputs": [
        {
          "output_type": "execute_result",
          "data": {
            "text/plain": [
              "[{'role': 'system',\n",
              "  'content': \"\\n          You are a helpful AI that will assist me with analysing and reading newspaper articles.\\n          Read the newspaper article attentively and provide a short description of principal characters.\\n          Each newspaper article is enclosed with triple hashtags (i.e. ###).\\n          Don't make things up! If the information is not in the article then reply 'I don't know'\\n          \"},\n",
              " {'role': 'user',\n",
              "  'content': '\\n                  ###POOR T,i,ENIPAT A 1„k CT  The Poor Law Coirdnissioti(rs have issued a ei; cular,\\n                  dated the 20th instant, stating that they have consulted the Attorney and\\n                  Solicitor-General on the construction of the late Removal Act, and give as the\\n                  result:— I. \" That the proviso to the Ist section of the 9 and 10 Vict., c. 66,\\n                  which sets forth the exceptions to the principal enactments that are to be\\n                  excluded in the computation of time, is net retrospective in its operation, so\\n                  as to apply to cases where the five years\\' residence was complete before the statute.\\n                  2. \" That an interval between the completion of the five years residence and the\\n                  application for the warrant of removal filled up by one of the exceptions contained\\n                  in the proviso will not p event the operation of the statute in restraining the\\n                  removal of the pauper whu had resided for the specified time. 3. \" That orders\\n                  of removal obtained previous to th• passing of the Act, but not then executed\\n                  by the removal of the paupers,###'}]"
            ]
          },
          "metadata": {},
          "execution_count": 32
        }
      ],
      "source": [
        "messages"
      ]
    },
    {
      "cell_type": "code",
      "execution_count": null,
      "metadata": {
        "id": "GyBwFdkBZ6RG"
      },
      "outputs": [],
      "source": [
        "#help(llm_client.chat_completion)"
      ]
    },
    {
      "cell_type": "code",
      "execution_count": null,
      "metadata": {
        "id": "-MM2Wlv_Vw3y"
      },
      "outputs": [],
      "source": [
        "# # uncomment this code if you want to work locally, comment the other function\n",
        "# def get_completion(messages: list, temperature=.1, top_p=.1) -> str:\n",
        "#   \"\"\"get completion for given system and user prompt\n",
        "#     Arguments:\n",
        "#     messages (list): a list containin a system and user message as\n",
        "#       python dictionaries with keys 'role' and 'content'\n",
        "#     temperature (float): regulate creativity of the text generation\n",
        "#     top_p (float): cummulative probability included in the\n",
        "#       generation process\n",
        "#   \"\"\"\n",
        "#   prompt = pipeline.tokenizer.apply_chat_template(\n",
        "#         messages,\n",
        "#         tokenize=False,\n",
        "#         add_generation_prompt=True\n",
        "#       )\n",
        "\n",
        "#   outputs = pipeline(\n",
        "#     prompt,\n",
        "#     max_new_tokens=256,\n",
        "#     eos_token_id=terminators,\n",
        "#     do_sample=True,\n",
        "#     temperature=temperature,\n",
        "#     top_p=top_p,\n",
        "#       )\n",
        "#   return outputs[0][\"generated_text\"][len(prompt):]\n",
        "\n",
        "# uncomment this if you are using the llm_client\n",
        "def get_completion(messages: list, temperature=.0, top_p=.1):\n",
        "    \"\"\"get completion for given system and user prompt\n",
        "      Arguments:\n",
        "        messages (list): a list containin a system and user message as\n",
        "          python dictionaries with keys 'role' and 'content'\n",
        "        temperature (float): regulate creativity of the text generation\n",
        "        top_p (float): cummulative probability included in the\n",
        "          generation process\n",
        "    \"\"\"\n",
        "    outputs = llm_client.chat_completion(\n",
        "        messages=messages,\n",
        "        max_tokens=1024,\n",
        "        temperature=temperature,\n",
        "        top_p=top_p\n",
        "        )\n",
        "    return outputs.choices[0].message.content"
      ]
    },
    {
      "cell_type": "code",
      "execution_count": null,
      "metadata": {
        "id": "f6G6Cbt18lUX",
        "outputId": "8bf870f1-20c7-432d-dcca-0eea32387605",
        "colab": {
          "base_uri": "https://localhost:8080/"
        }
      },
      "outputs": [
        {
          "output_type": "stream",
          "name": "stdout",
          "text": [
            "Based on the newspaper article, the principal characters mentioned are:\n",
            "\n",
            "1. The Poor Law Commissioners: They are the ones who issued the circular and consulted with the Attorney and Solicitor-General on the construction of the Removal Act.\n",
            "2. The Attorney-General: He was consulted by the Poor Law Commissioners on the construction of the Removal Act.\n",
            "3. The Solicitor-General: He was also consulted by the Poor Law Commissioners on the construction of the Removal Act.\n",
            "4. Paupers: They are the individuals who are the subject of the Removal Act and are being discussed in the circular.\n",
            "\n",
            "Note: There are no specific individuals mentioned in the article, only these groups of people.\n"
          ]
        }
      ],
      "source": [
        "print(get_completion(messages))"
      ]
    },
    {
      "cell_type": "markdown",
      "metadata": {
        "id": "SML4OsbfXIk8"
      },
      "source": [
        "## Exercise\n",
        "\n",
        "- Change the system message and ask the model to reply in medieval French.\n",
        "- Change the user message and ask the model to summarize the article and condense it to one sentence."
      ]
    },
    {
      "cell_type": "code",
      "execution_count": null,
      "metadata": {
        "id": "0CfZ-Q96omxn"
      },
      "outputs": [],
      "source": [
        "# Enter code here"
      ]
    },
    {
      "cell_type": "markdown",
      "metadata": {
        "id": "Tq0pWVJXoo10"
      },
      "source": [
        "#### Solution"
      ]
    },
    {
      "cell_type": "code",
      "execution_count": null,
      "metadata": {
        "id": "am1Ge38tXGP-",
        "outputId": "243c2822-2c13-4cce-a16a-b560d9aaeaf7",
        "colab": {
          "base_uri": "https://localhost:8080/"
        }
      },
      "outputs": [
        {
          "output_type": "stream",
          "name": "stdout",
          "text": [
            "Hear ye, hear ye! I, a humble AI, shall extract the principal characters portrayed in this newspaper article.\n",
            "\n",
            "Verily, I find none. This article appears to be a discussion of the Poor Law Commission's interpretation of the Removal Act, and does not mention any specific individuals. The article is a treatise on the law, outlining the Commission's views on the construction of the Act and its application to various scenarios.\n",
            "\n",
            "Thus, I must reply: \"Je ne sais pas\" (I don't know). There are no principal characters to describe.\n"
          ]
        }
      ],
      "source": [
        "messages = [\n",
        "    {\"role\": \"system\", \"content\": \"\"\"\n",
        "    You are a helpful AI that will assist me with analysing and reading newspaper articles.\n",
        "    Read the newspaper article attentively and extract the required information.\n",
        "    Each newspaper article is enclosed with triple hashtags (i.e. ###).\n",
        "    Don't make things up! If the information is not in the article then reply 'I don't know'\n",
        "          Answer in medieval French!\"\"\"\n",
        "          },\n",
        "    {\"role\": \"user\", \"content\": f\"\"\"Summarize the article in one sentence?\n",
        "    ###{df.iloc[0].text}###\"\"\"}\n",
        "]\n",
        "\n",
        "print(get_completion(messages))\n"
      ]
    },
    {
      "cell_type": "markdown",
      "metadata": {
        "id": "gNcYq_a-beX1"
      },
      "source": [
        "## Applying text generation to historical documents\n"
      ]
    },
    {
      "cell_type": "markdown",
      "metadata": {
        "id": "USeWpL8Ar-UX"
      },
      "source": [
        "### Example 1: Summarize\n",
        "\n",
        "Let's imagine we'd wish to know what happened in January 1899 but won't have time to read all the newspaper issues. Luckily, LLMs excel at summarization!"
      ]
    },
    {
      "cell_type": "markdown",
      "metadata": {
        "id": "Fy5lpuy94eBE"
      },
      "source": [
        "We select all the articles for this January 1899 and save them in a new dataframe. For the purposes of this exercise, we just take a random sample of 20 chunks, otherwise it will take too long to run everything through the model."
      ]
    },
    {
      "cell_type": "code",
      "execution_count": null,
      "metadata": {
        "id": "Cw-N3XoUkRfu",
        "outputId": "0c494245-0e4d-4f66-81f4-9df3822b37de",
        "colab": {
          "base_uri": "https://localhost:8080/"
        }
      },
      "outputs": [
        {
          "output_type": "execute_result",
          "data": {
            "text/plain": [
              "(10, 15)"
            ]
          },
          "metadata": {},
          "execution_count": 17
        }
      ],
      "source": [
        "df_small = df_chunks[\n",
        "            (df_chunks.year==1899) & (df_chunks.month==1) # select articles from January 1899\n",
        "                  ].sample(10, random_state=1984).reset_index(drop=True) # we sample a few to keep things simple\n",
        "df_small.shape"
      ]
    },
    {
      "cell_type": "markdown",
      "metadata": {
        "id": "CIm6yKDE41Lo"
      },
      "source": [
        "Run the cell below to load the `apply_completions` function."
      ]
    },
    {
      "cell_type": "code",
      "execution_count": null,
      "metadata": {
        "id": "FJiND9t_dkE0"
      },
      "outputs": [],
      "source": [
        "def apply_completions(item: pd.Series,\n",
        "                      system_message: str,\n",
        "                      user_message: str,\n",
        "                      text_column: str = 'chunks') -> str:\n",
        "  \"\"\"\n",
        "  Function that appl\n",
        "  Argument:\n",
        "    item (pd.Series): row from a pandas Dataframe\n",
        "    system_message (str): system prompt, specifies how the system\n",
        "      should behave in\n",
        "    user_message (str): user prompt, give instruction how to\n",
        "      process each historical. the documents itself will be append\n",
        "      from the 'text_column' argument\n",
        "    text_column (str): name of the text column\n",
        "  \"\"\"\n",
        "  messages = [\n",
        "    {\"role\": \"system\", \"content\": system_message},\n",
        "    {\"role\": \"user\", \"content\": user_message}\n",
        "      ]\n",
        "  messages[1]['content'] += f\"\\n\\n###{item[text_column]}###\"\n",
        "  return  get_completion(messages)"
      ]
    },
    {
      "cell_type": "markdown",
      "metadata": {
        "id": "OwuTEn3245AK"
      },
      "source": [
        "We apply the prompt to the text chunks in our dataframe."
      ]
    },
    {
      "cell_type": "code",
      "execution_count": null,
      "metadata": {
        "id": "nUEjoux9Y3ZV",
        "outputId": "5d9d85d9-222f-4e86-fe92-64590ac9b791",
        "colab": {
          "base_uri": "https://localhost:8080/"
        }
      },
      "outputs": [
        {
          "output_type": "stream",
          "name": "stderr",
          "text": [
            "100%|██████████| 10/10 [00:15<00:00,  1.50s/it]\n"
          ]
        }
      ],
      "source": [
        "tqdm.pandas() # use tqdm to view progress\n",
        "\n",
        "system_message = \"\"\"\n",
        "    You are a helpful AI that will assist me with analysing and reading newspaper articles.\n",
        "    Read the newspaper article attentively and extract the required information.\n",
        "    Each newspaper article is enclosed with triple hashtags (i.e. ###).\n",
        "    Don't make things up! If the information is not in the article then reply 'I don't know'\n",
        "    \"\"\"\n",
        "user_message = \"Summarize the article in one sentence.\"\n",
        "\n",
        "df_small['completion'] =  df_small.progress_apply(apply_completions,system_message=system_message, user_message=user_message, axis=1)"
      ]
    },
    {
      "cell_type": "code",
      "execution_count": null,
      "metadata": {
        "id": "n54N-ySxjuN2",
        "outputId": "be6f83f8-6d3f-422f-f583-4662830328b2",
        "colab": {
          "base_uri": "https://localhost:8080/",
          "height": 69
        }
      },
      "outputs": [
        {
          "output_type": "execute_result",
          "data": {
            "text/plain": [
              "'The article is a brief review of an event, praising the performance of the songs and the duties of Bro. John Rennard as the D.C. (presumably a leader or emcee) for adding to the successful enjoyment of the evening.'"
            ],
            "application/vnd.google.colaboratory.intrinsic+json": {
              "type": "string"
            }
          },
          "metadata": {},
          "execution_count": 20
        }
      ],
      "source": [
        "#print the summaries\n",
        "df_small['completion'][0]"
      ]
    },
    {
      "cell_type": "markdown",
      "metadata": {
        "id": "JzAyo9DJKhuO"
      },
      "source": [
        "### Example 2: Analyse information about accidents in the news\n",
        "\n",
        "In this example we complicate matters a little bit more.\n",
        "\n",
        "First we retrieve a set of documents based on the date of publications and their content. Then we use an LLMs to ask specific questions about this document ('a baby RAG pipeline, in the sense that we first retrieve and then generate a response to our query').\n",
        "\n",
        "How did accidents in the news change over time? Who is blamed for the accident?\n",
        "\n"
      ]
    },
    {
      "cell_type": "markdown",
      "source": [
        "\n",
        "In the first step we simple use a regular expression to find reports about accidents."
      ],
      "metadata": {
        "id": "58y6DHQsaPQq"
      }
    },
    {
      "cell_type": "code",
      "execution_count": null,
      "metadata": {
        "id": "TDv5HAz1LpW4",
        "outputId": "4a802a04-899c-4e78-b8b6-3e10d12a214b",
        "colab": {
          "base_uri": "https://localhost:8080/"
        }
      },
      "outputs": [
        {
          "output_type": "execute_result",
          "data": {
            "text/plain": [
              "['accidents', 'accident', 'AccIdent']"
            ]
          },
          "metadata": {},
          "execution_count": 21
        }
      ],
      "source": [
        "import re\n",
        "pattern = re.compile(r'\\baccidents?\\b', re.I) # compile a regex\n",
        "pattern.findall('accidents accident AccIdent accidental') # test the regex on a few example"
      ]
    },
    {
      "cell_type": "code",
      "execution_count": null,
      "metadata": {
        "id": "64Q74D2MMISw",
        "outputId": "5743dc81-096c-470c-d8ab-89b0514fefb3",
        "colab": {
          "base_uri": "https://localhost:8080/"
        }
      },
      "outputs": [
        {
          "output_type": "stream",
          "name": "stderr",
          "text": [
            "100%|██████████| 336876/336876 [00:11<00:00, 30088.47it/s]\n"
          ]
        }
      ],
      "source": [
        "tqdm.pandas()\n",
        "df_chunks['matches'] = df_chunks.chunks.progress_apply(lambda x: bool(pattern.findall(x)))"
      ]
    },
    {
      "cell_type": "markdown",
      "metadata": {
        "id": "KpUwL6O3O3cw"
      },
      "source": [
        "Then we retrieve a small sample of accident reports during the 1810s."
      ]
    },
    {
      "cell_type": "code",
      "execution_count": null,
      "metadata": {
        "id": "3j0Vs5IxMiUO",
        "outputId": "0d69dbe7-c2c2-4c2c-9817-d6417f19fa38",
        "colab": {
          "base_uri": "https://localhost:8080/"
        }
      },
      "outputs": [
        {
          "output_type": "stream",
          "name": "stdout",
          "text": [
            "(10, 16)\n"
          ]
        }
      ],
      "source": [
        "accident_1810s = df_chunks[\n",
        "                    (df_chunks.year.between(1810,1820)) & (df_chunks['matches'] == True)\n",
        "                      ].sample(n=10, random_state=1984)\n",
        "\n",
        "print(accident_1810s.shape)"
      ]
    },
    {
      "cell_type": "markdown",
      "metadata": {
        "id": "WGHaHfoAPGTH"
      },
      "source": [
        "You can use `.value_counts()` to compute the total number of articles mentioning 'accident' at least once."
      ]
    },
    {
      "cell_type": "code",
      "execution_count": null,
      "metadata": {
        "id": "tBvyenk2W7QC",
        "outputId": "065c59a2-514e-4fb0-a04f-06574739115a",
        "colab": {
          "base_uri": "https://localhost:8080/",
          "height": 178
        }
      },
      "outputs": [
        {
          "output_type": "execute_result",
          "data": {
            "text/plain": [
              "matches\n",
              "False    329628\n",
              "True       7248\n",
              "Name: count, dtype: int64"
            ],
            "text/html": [
              "<div>\n",
              "<style scoped>\n",
              "    .dataframe tbody tr th:only-of-type {\n",
              "        vertical-align: middle;\n",
              "    }\n",
              "\n",
              "    .dataframe tbody tr th {\n",
              "        vertical-align: top;\n",
              "    }\n",
              "\n",
              "    .dataframe thead th {\n",
              "        text-align: right;\n",
              "    }\n",
              "</style>\n",
              "<table border=\"1\" class=\"dataframe\">\n",
              "  <thead>\n",
              "    <tr style=\"text-align: right;\">\n",
              "      <th></th>\n",
              "      <th>count</th>\n",
              "    </tr>\n",
              "    <tr>\n",
              "      <th>matches</th>\n",
              "      <th></th>\n",
              "    </tr>\n",
              "  </thead>\n",
              "  <tbody>\n",
              "    <tr>\n",
              "      <th>False</th>\n",
              "      <td>329628</td>\n",
              "    </tr>\n",
              "    <tr>\n",
              "      <th>True</th>\n",
              "      <td>7248</td>\n",
              "    </tr>\n",
              "  </tbody>\n",
              "</table>\n",
              "</div><br><label><b>dtype:</b> int64</label>"
            ]
          },
          "metadata": {},
          "execution_count": 24
        }
      ],
      "source": [
        "(df_chunks['matches'] == True).value_counts()"
      ]
    },
    {
      "cell_type": "markdown",
      "source": [],
      "metadata": {
        "id": "ATo5AvhmYryp"
      }
    },
    {
      "cell_type": "code",
      "execution_count": null,
      "metadata": {
        "id": "1FtRSk2oT5sc",
        "outputId": "7cdfe707-b71e-4f53-eafc-c104f540e391",
        "colab": {
          "base_uri": "https://localhost:8080/"
        }
      },
      "outputs": [
        {
          "output_type": "stream",
          "name": "stderr",
          "text": [
            "100%|██████████| 10/10 [00:13<00:00,  1.33s/it]\n"
          ]
        }
      ],
      "source": [
        "system_message = \"\"\"\n",
        "    You are a helpful AI that will assist me with analysing and reading newspaper articles.\n",
        "    Read the newspaper article attentively and extract the required information.\n",
        "    Each newspaper article is enclosed with triple hashtags (i.e. ###).\n",
        "    Don't make things up! If the information is not in the article then reply 'I don't know'\n",
        "    Focus on the answer and do not add any unnecessary texts.\"\"\"\n",
        "user_message = \"\"\"Does the article talk about an accident?\n",
        "If yes, who is blamed for causing the accident? Is the accident caused by human error or a fault of the machine?\n",
        "If not, answer 'No accident mentioned' \"\"\"\n",
        "\n",
        "accident_1810s['completion'] =  accident_1810s.progress_apply(apply_completions,system_message=system_message, user_message=user_message, axis=1)\n"
      ]
    },
    {
      "cell_type": "code",
      "source": [
        "accident_1810s['completion']"
      ],
      "metadata": {
        "id": "ZyNq1BaKapNM",
        "outputId": "975d9e87-605b-4087-d373-30abd5157185",
        "colab": {
          "base_uri": "https://localhost:8080/",
          "height": 397
        }
      },
      "execution_count": null,
      "outputs": [
        {
          "output_type": "execute_result",
          "data": {
            "text/plain": [
              "3806                                                                                 No accident mentioned.\n",
              "3806                                                                                 No accident mentioned.\n",
              "3130                                                                                 No accident mentioned.\n",
              "4491                                                                                 No accident mentioned.\n",
              "3130                                                                                 No accident mentioned.\n",
              "966     Yes, the article talks about an accident.\\n\\nThe accidents mentioned are:\\n\\n1. An accident at R...\n",
              "3806    Yes, the article talks about an accident.\\n\\nThe accident is caused by human error, specifically...\n",
              "966     Yes, the article talks about an accident.\\n\\nThe accidents are caused by a bank falling in at th...\n",
              "966     Yes, the article talks about an accident.\\n\\nThe accident is caused by a machine (the bank shoot...\n",
              "4491                                                                                 No accident mentioned.\n",
              "Name: completion, dtype: object"
            ],
            "text/html": [
              "<div>\n",
              "<style scoped>\n",
              "    .dataframe tbody tr th:only-of-type {\n",
              "        vertical-align: middle;\n",
              "    }\n",
              "\n",
              "    .dataframe tbody tr th {\n",
              "        vertical-align: top;\n",
              "    }\n",
              "\n",
              "    .dataframe thead th {\n",
              "        text-align: right;\n",
              "    }\n",
              "</style>\n",
              "<table border=\"1\" class=\"dataframe\">\n",
              "  <thead>\n",
              "    <tr style=\"text-align: right;\">\n",
              "      <th></th>\n",
              "      <th>completion</th>\n",
              "    </tr>\n",
              "  </thead>\n",
              "  <tbody>\n",
              "    <tr>\n",
              "      <th>3806</th>\n",
              "      <td>No accident mentioned.</td>\n",
              "    </tr>\n",
              "    <tr>\n",
              "      <th>3806</th>\n",
              "      <td>No accident mentioned.</td>\n",
              "    </tr>\n",
              "    <tr>\n",
              "      <th>3130</th>\n",
              "      <td>No accident mentioned.</td>\n",
              "    </tr>\n",
              "    <tr>\n",
              "      <th>4491</th>\n",
              "      <td>No accident mentioned.</td>\n",
              "    </tr>\n",
              "    <tr>\n",
              "      <th>3130</th>\n",
              "      <td>No accident mentioned.</td>\n",
              "    </tr>\n",
              "    <tr>\n",
              "      <th>966</th>\n",
              "      <td>Yes, the article talks about an accident.\\n\\nThe accidents mentioned are:\\n\\n1. An accident at R...</td>\n",
              "    </tr>\n",
              "    <tr>\n",
              "      <th>3806</th>\n",
              "      <td>Yes, the article talks about an accident.\\n\\nThe accident is caused by human error, specifically...</td>\n",
              "    </tr>\n",
              "    <tr>\n",
              "      <th>966</th>\n",
              "      <td>Yes, the article talks about an accident.\\n\\nThe accidents are caused by a bank falling in at th...</td>\n",
              "    </tr>\n",
              "    <tr>\n",
              "      <th>966</th>\n",
              "      <td>Yes, the article talks about an accident.\\n\\nThe accident is caused by a machine (the bank shoot...</td>\n",
              "    </tr>\n",
              "    <tr>\n",
              "      <th>4491</th>\n",
              "      <td>No accident mentioned.</td>\n",
              "    </tr>\n",
              "  </tbody>\n",
              "</table>\n",
              "</div><br><label><b>dtype:</b> object</label>"
            ]
          },
          "metadata": {},
          "execution_count": 26
        }
      ]
    },
    {
      "cell_type": "code",
      "execution_count": null,
      "metadata": {
        "id": "c46YdAkqU9_K",
        "outputId": "fe13c70d-afaf-4c1e-edf0-4913461967d8",
        "colab": {
          "base_uri": "https://localhost:8080/"
        }
      },
      "outputs": [
        {
          "output_type": "execute_result",
          "data": {
            "text/plain": [
              "array([\"the other four much bruised and cut, six of the eight are in such a state, that their recovery is not etpected. After a length of time, four more were dug up quite dead, and their bodies removed to the canteen for the Coroner's Inquest. A melancholy accident happened at Lisna, in the vicinity of Killileagh, on Tuesday last. As some men were working at a gravel pit for the purpose of repairing roads, the bank shot down and killed two men on the spot ; two more were so desperately bruised by the stuf falling on them, that their recovery is yet very doubtful. Each of the suXerers have lel t a wife and a large helpless family to deplore their loss. A young Lady of the name of LEACH, residing in the neighbourhood of Mary-la-bonne, was shockingly burnt on Thursday night last, by her clothes taking fire by the candle, whilst reading in bed : she lingere&, till the next day, and then expired in the greatest agony.—A Coroner's Jury sat on the body, and brought in a verdict of Accidental Death. At Nancy, in France, the following accident recently happened :—A son of Mr. Dutertre,. a lace.' merchant, was playing with some schoolfellows in his father's house, and, having taken a gun from the counting-house, went through the manual exercise ; not knowing that it was loaded, he presented and discharged it : at that moment his father was entering the room, and the unfortunate parent received\",\n",
              "       'Yes, the article talks about an accident.\\n\\nThe accident is caused by a machine (the bank shooting down) and human error (not knowing the gun was loaded).\\n\\nThe article mentions two accidents:\\n\\n1. At Lisna, two men were killed and two more were seriously injured when the bank of a gravel pit collapsed.\\n2. At Nancy, a son of Mr. Dutertre accidentally shot his father with a gun while playing with friends.'],\n",
              "      dtype=object)"
            ]
          },
          "metadata": {},
          "execution_count": 27
        }
      ],
      "source": [
        "accident_1810s[['chunks','completion']].iloc[8].values"
      ]
    },
    {
      "cell_type": "markdown",
      "metadata": {
        "id": "ov1ySBNokZmj"
      },
      "source": [
        "### Example 3: Structured Generation\n",
        "\n",
        "Working with these verbose responses if often difficult, especally at scale. Fortunately, we can ask the LLM the respond on a **structured fashion** that we can process more easily.\n",
        "\n",
        "Let's have a look at extracting **biographical information** from newspaper articles.\n",
        "\n",
        "Newspapers contain a lot of biographical information, one could say biography appears as a microgenre in the press. For example, in accident reports we do get some background about the people involved, implicitly (gender) or explicitly (professions or age).\n",
        "\n",
        "Below we use a language model to extract such information from newspaper reports and return it in a predefined format that allows us to analyse newspapers as structured data.\n",
        "\n",
        "Put differently, we use LLMs to extract information similar to automatic annotation, and convert text to JSON format, which is easier to parse with Python.*\n",
        "\n",
        "* You could also use XML if you are more comfortable with this format."
      ]
    },
    {
      "cell_type": "code",
      "execution_count": null,
      "metadata": {
        "id": "wKWWeBVXoFaG"
      },
      "outputs": [],
      "source": [
        "df_small = df_chunks[\n",
        "                    (df_chunks['matches'] == True)\n",
        "                      ].sample(n=10, random_state=1984)"
      ]
    },
    {
      "cell_type": "code",
      "execution_count": null,
      "metadata": {
        "id": "wCE10sOIZSzt"
      },
      "outputs": [],
      "source": [
        "# df_small['chunks'].iloc[7]"
      ]
    },
    {
      "cell_type": "markdown",
      "metadata": {
        "id": "cDSoGMluRrVa"
      },
      "source": [
        "We rewrite the system prompt and give it a few more instructions on how to respond to our queries."
      ]
    },
    {
      "cell_type": "code",
      "execution_count": null,
      "metadata": {
        "id": "xAYqIGPOheVr"
      },
      "outputs": [],
      "source": [
        "system_message = \"\"\"You are an helpful AI that will assist me with analysing source documents in the form of historical newspaper articles.\n",
        "    Read the newspaper articles attentively and extract structured information formatted as a list of Python dictionaries.\n",
        "    Provide all relevant short source snippets from the documents on which you directly based your answer.\n",
        "    Keep the source snippet short to just a few words and not complete sentences.\n",
        "    The snippet MUST be extracted from the soutce, with spelling and wording identical to the source.\n",
        "    This list of JSON blobs should begin with a \"START\" tag and end with a \"END\" tag.\n",
        "    Each newspaper article will be enclosed with triple hash tags (i.e. ###).\n",
        "    Don't make thigs up! If you don't know the answer, simply return no value\"\"\"\n",
        "\n",
        "\n",
        "user_message = \"\"\"\n",
        "If the article describes a historical accident, extract biographical information about the individuals involved in the accidents.\n",
        "Return a list of Python dictionaries for each individual which records important personal attributes such gender, age and profession, and others that are relevant.\n",
        "Each attribute is a key in a dictionary.\n",
        "Record personal attribures as dictionaries as shown in the example below.\n",
        "Also add one key with \"outcome\" that records what happened to person (\"drowned\", \"survived\", \"injured\")\n",
        "Add a confidence score as a float between 0 and 1 for each snippet extracted.\n",
        "Under \"source_snippets\" collect text fragments that record what happened to person involved.\n",
        "\n",
        "START\n",
        "[\n",
        "  {\n",
        "  \"name\" : { \"value\": answer,\"source\": source_snippet, \"confidence\": your_confidence_score },\n",
        "  \"gender\" : { \"value\": answer,\"source\": source_snippet, \"confidence\": your_confidence_score },\n",
        "  \"profession\" :{ \"value\": answer,\"source\": source_snippet, \"confidence\": your_confidence_score },\n",
        "  ... other attributes ...,\n",
        "  \"outcome\" : { \"value\": answer,\"source\": source_snippet, \"confidence\": your_confidence_score },\n",
        "  \"summary\": { \"value\" :summary, \"confidence\" : your_confidence_score }\n",
        "  },\n",
        "...]\n",
        "END\n",
        "\"\"\"\n",
        "\n"
      ]
    },
    {
      "cell_type": "code",
      "execution_count": null,
      "metadata": {
        "id": "3S9M6ojCd0d7",
        "outputId": "76cd6b82-b231-4ff8-f76f-8dee6c3d160b",
        "colab": {
          "base_uri": "https://localhost:8080/"
        }
      },
      "outputs": [
        {
          "output_type": "stream",
          "name": "stdout",
          "text": [
            "START\n",
            "[\n",
            "  {\n",
            "    \"name\" : {\"value\": \"The Rev. G. M. Gordon\", \"source\": \"who as killed in the sortie from Candahar\", \"confidence\": 0.9},\n",
            "    \"gender\" : {\"value\": \"male\", \"source\": \"\", \"confidence\": 0.8},\n",
            "    \"profession\" : {\"value\": \"clergyman\", \"source\": \"The Rev. G. M. Gordon\", \"confidence\": 0.9},\n",
            "    \"outcome\" : {\"value\": \"killed\", \"source\": \"who as killed in the sortie from Candahar\", \"confidence\": 0.9},\n",
            "    \"source_snippets\" : [\"who as killed in the sortie from Candahar\"],\n",
            "    \"summary\" : {\"value\": \"The Rev. G. M. Gordon was killed in the sortie from Candahar\", \"confidence\": 0.9}\n",
            "  },\n",
            "  {\n",
            "    \"name\" : {\"value\": \"Duke of Connaught\", \"source\": \"The Duke of Connaught\", \"confidence\": 0.9},\n",
            "    \"gender\" : {\"value\": \"male\", \"source\": \"\", \"confidence\": 0.8},\n",
            "    \"profession\" : {\"value\": \"royal\", \"source\": \"The Duke of Connaught\", \"confidence\": 0.9},\n",
            "    \"outcome\" : {\"value\": \"injured\", \"source\": \"Beyond the shaking, however, the Duke was little the worse for the mishap\", \"confidence\": 0.8},\n",
            "    \"source_snippets\" : [\"The Duke of Connaught\", \"Beyond the shaking, however, the Duke was little the worse for the mishap\"],\n",
            "    \"summary\" : {\"value\": \"The Duke of Connaught was thrown from his horse and injured\", \"confidence\": 0.8}\n",
            "  },\n",
            "  {\n",
            "    \"name\" : {\"value\": \"Rodwell\", \"source\": \"three gentlemen named Rodwell\", \"confidence\": 0.8},\n",
            "    \"gender\" : {\"value\": \"male\", \"source\": \"\", \"confidence\": 0.8},\n",
            "    \"profession\" : {\"value\": \"gentleman\", \"source\": \"three gentlemen named Rodwell\", \"confidence\": 0.8},\n",
            "    \"outcome\" : {\"value\": \"drowned\", \"source\": \"A yacht suddenly capsized off Hastings on Tuesday afternoon, and three gentlemen named Rodwell, Lindsey, and Docwra, and a boatman named Swaine, were drowned\", \"confidence\": 0.9},\n",
            "    \"source_snippets\" : [\"three gentlemen named Rodwell\", \"A yacht suddenly capsized off Hastings on Tuesday afternoon, and three gentlemen named Rodwell, Lindsey, and Docwra, and a boatman named Swaine, were drowned\"],\n",
            "    \"summary\" : {\"value\": \"Rodwell was one of the three gentlemen who drowned in a yacht capsizing\", \"confidence\": 0.8}\n",
            "  },\n",
            "  {\n",
            "    \"name\" : {\"value\": \"Lindsey\", \"source\": \"three gentlemen named Rodwell, Lindsey, and Docwra\", \"confidence\": 0.8},\n",
            "    \"gender\" : {\"value\": \"male\", \"source\": \"\", \"confidence\": 0.8},\n",
            "    \"profession\" : {\"value\": \"gentleman\", \"source\": \"three gentlemen named Rodwell, Lindsey, and Docwra\", \"confidence\": 0.8},\n",
            "    \"outcome\" : {\"value\": \"drowned\", \"source\": \"A yacht suddenly capsized off Hastings on Tuesday afternoon, and three gentlemen named Rodwell, Lindsey, and Docwra, and a boatman named Swaine, were drowned\", \"confidence\": 0.9},\n",
            "    \"source_snippets\" : [\"three gentlemen named Rodwell, Lindsey, and Docwra\", \"A yacht suddenly capsized off Hastings on Tuesday afternoon, and three gentlemen named Rodwell, Lindsey, and Docwra, and a boatman named Swaine, were drowned\"],\n",
            "    \"summary\" : {\"value\": \"Lindsey was one of the three gentlemen who drowned in a yacht capsizing\", \"confidence\": 0.8}\n",
            "  },\n",
            "  {\n",
            "    \"name\" : {\"value\": \"Docwra\", \"source\": \"three gentlemen named Rodwell, Lindsey, and Docwra\", \"confidence\": 0.8},\n",
            "    \"gender\" : {\"value\": \"male\", \"source\": \"\", \"confidence\": 0.8},\n",
            "    \"profession\" : {\"value\": \"gentleman\", \"source\": \"three gentlemen named Rodwell, Lindsey, and Docwra\", \"confidence\": 0.8},\n",
            "    \"outcome\" : {\"value\": \"drowned\", \"source\": \"A yacht suddenly capsized off Hastings on Tuesday afternoon, and three gentlemen named Rodwell, Lindsey, and Docwra, and a boat\n"
          ]
        }
      ],
      "source": [
        "messages = [\n",
        "    {\"role\": \"system\", \"content\": system_message},\n",
        "    {\"role\": \"user\", \"content\": user_message + f'\\n\\n###{df_small[\"chunks\"].iloc[4]}###'}\n",
        "      ]\n",
        "print(get_completion(messages))"
      ]
    },
    {
      "cell_type": "code",
      "execution_count": null,
      "metadata": {
        "id": "cDw5FzAta9Ku",
        "outputId": "1cc31bd1-bb48-41ea-dd62-1d9cbedb2c74",
        "colab": {
          "base_uri": "https://localhost:8080/"
        }
      },
      "outputs": [
        {
          "output_type": "stream",
          "name": "stderr",
          "text": [
            "100%|██████████| 10/10 [00:44<00:00,  4.41s/it]\n"
          ]
        }
      ],
      "source": [
        "df_small['completion'] =  df_small.progress_apply(apply_completions,system_message=system_message, user_message=user_message, axis=1)\n"
      ]
    },
    {
      "cell_type": "code",
      "execution_count": null,
      "metadata": {
        "id": "BJGmFs9Qq_Tu",
        "outputId": "e268cebe-78fe-467d-9cf5-10daf53f243f",
        "colab": {
          "base_uri": "https://localhost:8080/"
        }
      },
      "outputs": [
        {
          "output_type": "stream",
          "name": "stdout",
          "text": [
            "9969    START\\n[\\n  {\\n    \"name\" : {\"value\" : \"James Turner\", \"source\" : \"Subsequently a man who, it is...\n",
            "3526    START\\n[\\n  {\\n    \"name\" : {\"value\": \"James Heng\", \"source\": \"ACCIDENT AT WOOLWICH DOCKYARD;— a...\n",
            "8563    START\\n[\\n  {\\n    \"name\" : {\"value\": \"Edward Ball\", \"source\": \"that of a young man named Edward...\n",
            "7666    START\\n[\\n  {\\n    \"name\" : {\"value\": \"unknown\", \"source\": \"A frightful accident occurred on Sat...\n",
            "9068    START\\n[\\n  {\\n    \"name\" : {\"value\": \"The Rev. G. M. Gordon\", \"source\": \"who as killed in the s...\n",
            "3438                                                                                             END\\n\\n###\n",
            "7306    START\\n[\\n  {\\n    \"name\" : {\"value\": \"Miles Barnes\", \"source\": \"the body of Miles Barnes\", \"con...\n",
            "3077    START\\n[\\n  {\\n    \"name\" : {\"value\": \"Sareh Bunyan\", \"source\": \"On Friday an inquest was held i...\n",
            "5963    START\\n[\\n  {\\n    \"name\" : {\"value\": \"Samuel Birtwistle\", \"source\": \"A youth named Samuel Birtw...\n",
            "5177    END\\n\\nSTART\\n[\\n  {\\n    \"name\" : {\"value\": None, \"source\": None, \"confidence\": 0.0},\\n    \"gen...\n",
            "Name: completion, dtype: object\n"
          ]
        }
      ],
      "source": [
        "print(df_small['completion'])"
      ]
    },
    {
      "cell_type": "markdown",
      "metadata": {
        "id": "ocO1ody2SAWt"
      },
      "source": [
        "To convert the response to a Python data type, we use the `eval_completion` function."
      ]
    },
    {
      "cell_type": "code",
      "execution_count": null,
      "metadata": {
        "id": "NmyQ5u4NIIT_",
        "outputId": "51d9253a-1d29-4712-8da5-7cba825b2577",
        "colab": {
          "base_uri": "https://localhost:8080/"
        }
      },
      "outputs": [
        {
          "output_type": "stream",
          "name": "stdout",
          "text": [
            "unterminated string literal (detected at line 38) (<string>, line 38)\n",
            "name 'END' is not defined\n"
          ]
        }
      ],
      "source": [
        "def eval_completion(completion: str) -> list:\n",
        "  \"\"\"Convert the completion as string to a Python list\n",
        "  Argument:\n",
        "      completion (str): structured generation by LLM\n",
        "  \"\"\"\n",
        "  try:\n",
        "    return eval(completion.split('START')[-1].strip().rstrip('END').strip())\n",
        "  except Exception as e:\n",
        "    print(e)\n",
        "    return []\n",
        "\n",
        "df_small['completion_eval'] = df_small['completion'].apply(eval_completion)"
      ]
    },
    {
      "cell_type": "markdown",
      "metadata": {
        "id": "CBwc1JXhSgK1"
      },
      "source": [
        "Let's have a bit closer look at some examples."
      ]
    },
    {
      "cell_type": "code",
      "execution_count": null,
      "metadata": {
        "id": "0boRbvyXIsdW",
        "outputId": "99341cda-8ca6-4894-e3ba-533cd4a2f231",
        "colab": {
          "base_uri": "https://localhost:8080/",
          "height": 397
        }
      },
      "outputs": [
        {
          "output_type": "execute_result",
          "data": {
            "text/plain": [
              "9969    [{'name': {'value': 'James Turner', 'source': 'Subsequently a man who, it is alleged, first rais...\n",
              "3526    [{'name': {'value': 'James Heng', 'source': 'ACCIDENT AT WOOLWICH DOCKYARD;— accident occurred y...\n",
              "8563    [{'name': {'value': 'Edward Ball', 'source': 'that of a young man named Edward Ball', 'confidenc...\n",
              "7666    [{'name': {'value': 'unknown', 'source': 'A frightful accident occurred on Saturday week at the ...\n",
              "9068                                                                                                     []\n",
              "3438                                                                                                     []\n",
              "7306    [{'name': {'value': 'Miles Barnes', 'source': 'the body of Miles Barnes', 'confidence': 1.0}, 'g...\n",
              "3077    [{'name': {'value': 'Sareh Bunyan', 'source': 'On Friday an inquest was held in New Gravel-lane ...\n",
              "5963    [{'name': {'value': 'Samuel Birtwistle', 'source': 'A youth named Samuel Birtwistle', 'confidenc...\n",
              "5177    [{'name': {'value': None, 'source': None, 'confidence': 0.0}, 'gender': {'value': None, 'source'...\n",
              "Name: completion_eval, dtype: object"
            ],
            "text/html": [
              "<div>\n",
              "<style scoped>\n",
              "    .dataframe tbody tr th:only-of-type {\n",
              "        vertical-align: middle;\n",
              "    }\n",
              "\n",
              "    .dataframe tbody tr th {\n",
              "        vertical-align: top;\n",
              "    }\n",
              "\n",
              "    .dataframe thead th {\n",
              "        text-align: right;\n",
              "    }\n",
              "</style>\n",
              "<table border=\"1\" class=\"dataframe\">\n",
              "  <thead>\n",
              "    <tr style=\"text-align: right;\">\n",
              "      <th></th>\n",
              "      <th>completion_eval</th>\n",
              "    </tr>\n",
              "  </thead>\n",
              "  <tbody>\n",
              "    <tr>\n",
              "      <th>9969</th>\n",
              "      <td>[{'name': {'value': 'James Turner', 'source': 'Subsequently a man who, it is alleged, first rais...</td>\n",
              "    </tr>\n",
              "    <tr>\n",
              "      <th>3526</th>\n",
              "      <td>[{'name': {'value': 'James Heng', 'source': 'ACCIDENT AT WOOLWICH DOCKYARD;— accident occurred y...</td>\n",
              "    </tr>\n",
              "    <tr>\n",
              "      <th>8563</th>\n",
              "      <td>[{'name': {'value': 'Edward Ball', 'source': 'that of a young man named Edward Ball', 'confidenc...</td>\n",
              "    </tr>\n",
              "    <tr>\n",
              "      <th>7666</th>\n",
              "      <td>[{'name': {'value': 'unknown', 'source': 'A frightful accident occurred on Saturday week at the ...</td>\n",
              "    </tr>\n",
              "    <tr>\n",
              "      <th>9068</th>\n",
              "      <td>[]</td>\n",
              "    </tr>\n",
              "    <tr>\n",
              "      <th>3438</th>\n",
              "      <td>[]</td>\n",
              "    </tr>\n",
              "    <tr>\n",
              "      <th>7306</th>\n",
              "      <td>[{'name': {'value': 'Miles Barnes', 'source': 'the body of Miles Barnes', 'confidence': 1.0}, 'g...</td>\n",
              "    </tr>\n",
              "    <tr>\n",
              "      <th>3077</th>\n",
              "      <td>[{'name': {'value': 'Sareh Bunyan', 'source': 'On Friday an inquest was held in New Gravel-lane ...</td>\n",
              "    </tr>\n",
              "    <tr>\n",
              "      <th>5963</th>\n",
              "      <td>[{'name': {'value': 'Samuel Birtwistle', 'source': 'A youth named Samuel Birtwistle', 'confidenc...</td>\n",
              "    </tr>\n",
              "    <tr>\n",
              "      <th>5177</th>\n",
              "      <td>[{'name': {'value': None, 'source': None, 'confidence': 0.0}, 'gender': {'value': None, 'source'...</td>\n",
              "    </tr>\n",
              "  </tbody>\n",
              "</table>\n",
              "</div><br><label><b>dtype:</b> object</label>"
            ]
          },
          "metadata": {},
          "execution_count": 34
        }
      ],
      "source": [
        "df_small['completion_eval']"
      ]
    },
    {
      "cell_type": "code",
      "execution_count": null,
      "metadata": {
        "id": "tS6AD3QbpL0t",
        "outputId": "e0ab7c61-a6fe-4f9e-8987-2a2f3bcfbd2f",
        "colab": {
          "base_uri": "https://localhost:8080/"
        }
      },
      "outputs": [
        {
          "output_type": "execute_result",
          "data": {
            "text/plain": [
              "[]"
            ]
          },
          "metadata": {},
          "execution_count": 40
        }
      ],
      "source": [
        "df_small['completion_eval'].iloc[4]"
      ]
    },
    {
      "cell_type": "markdown",
      "metadata": {
        "id": "WXbqMNySJ2ii"
      },
      "source": [
        "Lastly we can have a bit closer look at how the language model processes the text by highlighting the fragments on which it based its answers. This can help us with\n",
        "- creating automatic pre-annotation\n",
        "- figuring out how the pipeline could be improved\n",
        "- close-reading large amounts of text"
      ]
    },
    {
      "cell_type": "code",
      "execution_count": null,
      "metadata": {
        "id": "NZD1DtdgJqPG"
      },
      "outputs": [],
      "source": [
        "row = df_small.iloc[1]\n",
        "html_output = row['chunks']\n",
        "for p_dict in row['completion_eval']:\n",
        "  for attr, attr_dict in p_dict.items():\n",
        "    try:\n",
        "      if isinstance(attr_dict, dict):\n",
        "        if attr_dict.get('confidence',.0) > .5 and attr_dict.get(\"source\",None):\n",
        "          html_output = re.sub(str(attr_dict['source']),\n",
        "                   f'<span style=\"background-color: yellow;\">{attr_dict[\"source\"]}</span>', html_output)\n",
        "    except Exception as e:\n",
        "      print(e,attr_dict)\n",
        "      continue"
      ]
    },
    {
      "cell_type": "code",
      "execution_count": null,
      "metadata": {
        "id": "41udlbVTLeLr",
        "outputId": "48154097-4b0e-4bf4-b79e-a96bb1c05e15",
        "colab": {
          "base_uri": "https://localhost:8080/",
          "height": 243
        }
      },
      "outputs": [
        {
          "output_type": "execute_result",
          "data": {
            "text/plain": [
              "<IPython.core.display.HTML object>"
            ],
            "text/html": [
              "clerk of the peace to every petty sessional division in the Riding. The chief constable stated, however, that according to the information he received the cattle plague was extending in certain localities. OXFORD COUNTY GAOL.—At the Michalemas Quarter Session held yesterday, and which an unusually large number of magistrates attended, the deputy governor of the county gaol (Mr. Calverly) was unanimously elected governor, in the room of Major Ogilvie, resigned. At the same time Mr. Mores, who had officiated as clerk at the gaol for the last sixteen years, was unanimously elected deputy governor. <span style=\"background-color: yellow;\">ACCIDENT AT WOOLWICH DOCKYARD;— accident occurred yesterday to James Heng</span> r' aAlabourer, serious Demopckyloyaerdd,awt who oheit satpepamearsfawctasoryat dweoprakrtminenthteshed ofe eWoolwichwhe re massive 4i-inch iron plates used for ship building are bent by machinery, when his clothing by some means was caught in a drilling machine, and he was whirled rapidly round, <span style=\"background-color: yellow;\">breaking three of his ribs and fracturing his skull</span>. The sufferer was immediately removed to the Royal Marine Infirmary, where he now remains in a precarious condition. [ADVERTISEMENT.]—That the fearful annual mortality of 68,0G0 youngincehtleidadrenotatinydindgeibiclaitnedlpy to pillsofersons and medicines, allagmesmicaiynebs, which, be arrested,hioif, though apparently relieving the patient, have in h reality no o,her tendency than that of increasing debility, upon ona p odi nn eiwith: ba eieht thetthheevdi atanlgfe force re eo f harmoniousbl fye, we were simply to study how dlmpartingennteowt tahnedwphuorlee iblood,rarne depends, has been successfully proved by Du Barry's Invalids' and Infants' Food, the Revalenta Arabica, and its thousands of cures"
            ]
          },
          "metadata": {},
          "execution_count": 44
        }
      ],
      "source": [
        "from IPython.core.display import HTML\n",
        "HTML(html_output)"
      ]
    },
    {
      "cell_type": "markdown",
      "metadata": {
        "id": "CWAog9xdpG_q"
      },
      "source": [
        "### Example 4: OCR correction"
      ]
    },
    {
      "cell_type": "markdown",
      "metadata": {
        "id": "jmvJn6ZlOdC4"
      },
      "source": [
        "Lastly, let's use LLM to help us with a longstanding problem in digital humanities, improving OCR quality."
      ]
    },
    {
      "cell_type": "code",
      "execution_count": null,
      "metadata": {
        "id": "G5N8e2qdpKBZ"
      },
      "outputs": [],
      "source": [
        "df_small_bad_ocr = df_chunks.sort_values('ocrquality', ascending=True)[:1000].sample(n=10)"
      ]
    },
    {
      "cell_type": "code",
      "execution_count": null,
      "metadata": {
        "id": "4JXH_oypolYi",
        "outputId": "bf73932f-18a9-45e8-9652-73c28a93167d",
        "colab": {
          "base_uri": "https://localhost:8080/"
        }
      },
      "outputs": [
        {
          "output_type": "stream",
          "name": "stderr",
          "text": [
            "100%|██████████| 10/10 [01:16<00:00,  7.61s/it]\n"
          ]
        }
      ],
      "source": [
        "system_message = \"You are an helpful AI and provide truthful correction of historical text.\"\n",
        "\n",
        "user_message = \"\"\"Transcribe the text and correct typos and errors in the text caused by bad optical character recognition (OCR).\n",
        "Do not add any information that is not in the original text!\"\"\"\n",
        "\n",
        "df_small_bad_ocr['completion'] = df_small_bad_ocr.progress_apply(apply_completions,system_message=system_message, user_message=user_message, axis=1)\n"
      ]
    },
    {
      "cell_type": "code",
      "execution_count": null,
      "metadata": {
        "id": "wjFbCSDYtNx-",
        "outputId": "562ef22e-5929-4253-960c-54c5f33c7d6b",
        "colab": {
          "base_uri": "https://localhost:8080/",
          "height": 191
        }
      },
      "outputs": [
        {
          "output_type": "execute_result",
          "data": {
            "text/plain": [
              "\"from Harrow; Mr. and Miss Afansergh, at Gould's Hotel, Jermyn-street, from Paris; Captain Patterson, at ditto, from Bath ; Samuel Peach, Esq., at Burlington Hotel, Old Burlington and Cork.:streets, from Warwickshire ; J. Cano, Esq. at ditto, from Ireland. CUANGEL—The Earl and Countess of Sefton and the Ladies Molyneux, for their seat, Stoke Farm, Berke ; the Countess of Mansfield, for her Villa at Twickenham ; Lord Lynedock, from his seat, Cosgrove Priory, for the Marquis of Anglesey's, Beau Desert, Staffordshire; Lord Meneaster, from Melton Mowbray, for his seat, in Cumberland ; Augustus Atkyns, Esq. from Farnborough Hill, near Bagshot, to Arreton Vicarage, near Newport, Isle of Wight; the Rev. Dr. Wynne, from Warne's Hotel; Mrs. Fletcher and family, from ditto; Mrs. Walker and family, from ditto, for North Wales; the Countess of Golflird, from the St. George's Hotel, Albemarle-street, for her seat, Brompton Park, Huntingdon. The Marchioness Dowager of Salisbury's Convex.sazione, on Sunday evening, was attended by the Russian Prince Puckler-Muskau, the Prince and Princess Esterhazy, the Prince and Princess Polignac, the Princess Lieven, the Ambassador from Portugal, the Ministers from Naples, Saxony, Wirtemberg, Prussia, Sardinia, Sweden, and the Netherlands, Countess Ludolff, Sir George Warrender, Colonel and Mrs. Malcolm, Lady Fitzroy Somerset, Earl of Westmorland, Mr. and Mrs. D'Anshaw, Countess Tankerville, Mr. Gordon, Lady Anne Becket, Mr. S. Smith, General Capel, Madame and Mademoiselle Feick, Colonel Whatley, Countess of Essex, Mr. de Neuman, Count Lothim, Mr. and Mrs. Omer Moreau, Countess de Chestalgar, Lady Elizabeth Stuart, Countess d'Alcudia, Monsieur\""
            ],
            "application/vnd.google.colaboratory.intrinsic+json": {
              "type": "string"
            }
          },
          "metadata": {},
          "execution_count": 47
        }
      ],
      "source": [
        "df_small_bad_ocr.iloc[4]['chunks']"
      ]
    },
    {
      "cell_type": "code",
      "execution_count": null,
      "metadata": {
        "id": "XLsWShc7tKGs",
        "colab": {
          "base_uri": "https://localhost:8080/"
        },
        "outputId": "b22ce451-a421-4547-85d3-b625bcec1fc2"
      },
      "outputs": [
        {
          "output_type": "stream",
          "name": "stdout",
          "text": [
            "Here is the transcribed text with corrections for typos and OCR errors:\n",
            "\n",
            "###From Harrow; Mr. and Miss Afansiegh, at Gould's Hotel, Jermyn Street, from Paris; Captain Patterson, at ditto, from Bath; Samuel Peach, Esq., at Burlington Hotel, Old Burlington Street and Cork Street, from Warwickshire; J. Cano, Esq., at ditto, from Ireland.\n",
            "\n",
            "CUANGEL—The Earl and Countess of Sefton and the Ladies Molyneux, for their seat, Stoke Farm, Berkshire; the Countess of Mansfield, for her villa at Twickenham; Lord Lynedoch, from his seat, Cosgrove Priory, for the Marquis of Anglesey's, Beau Desert, Staffordshire; Lord Manners, from Melton Mowbray, for his seat, in Cumberland; Augustus Atkyns, Esq., from Farnborough Hill, near Bagshot, to Arreton Vicarage, near Newport, Isle of Wight; the Rev. Dr. Wynne, from Warne's Hotel; Mrs. Fletcher and family, from ditto; Mrs. Walker and family, from ditto, for North Wales; the Countess of Gough, from the St. George's Hotel, Albemarle Street, for her seat, Brompton Park, Huntingdon.\n",
            "\n",
            "The Marchioness Dowager of Salisbury's Conversazione, on Sunday evening, was attended by the Russian Prince Pückler-Muskau, the Prince and Princess Esterházy, the Prince and Princess Polignac, the Princess Lieven, the Ambassador from Portugal, the Ministers from Naples, Saxony, Württemberg, Prussia, Sardinia, Sweden, and the Netherlands, Countess Ludolf, Sir George Warrender, Colonel and Mrs. Malcolm, Lady Fitzroy Somerset, Earl of Westmorland, Mr. and Mrs. D'Anshaw, Countess Tankerville, Mr. Gordon, Lady Anne Beckett, Mr. S. Smith, General Capel, Madame and Mademoiselle Feick, Colonel Whatley, Countess of Essex, Mr. de Neuman, Count Lothian, Mr. and Mrs. Omer Moreau, Countess de Chestalgar, Lady Elizabeth Stuart, Countess d'Alcudia, Monsieur###\n"
          ]
        }
      ],
      "source": [
        "print(df_small_bad_ocr.iloc[4]['completion'])"
      ]
    },
    {
      "cell_type": "code",
      "execution_count": null,
      "metadata": {
        "id": "6rc0U8WqsXiA",
        "outputId": "31b19940-55b4-4aec-915c-7d1dcd540344",
        "colab": {
          "base_uri": "https://localhost:8080/",
          "height": 191
        }
      },
      "outputs": [
        {
          "output_type": "execute_result",
          "data": {
            "text/plain": [
              "\"to the south of well-searched tracts, and has been approache I by vessels that have returned without loss, has never yet been explored. _ _ Supported by the advice of those experienced Arctic seamen, in, whom she has every reason to confide, Lady Franklin makes this last effort to clear away the mystery that shrouds tho' fate of her husband and his crews, and possibly to reszue from their iusulatedley abode among the Esquiniaux some of his younger companions, who may still be prolonging a dreary existence. • On such an occasion we, whose names are hereunto sub. scribed, feel confident that this our appeal will not remain unanswered by the British people, who will, we doubt not, tender to the widow of the illustrious navigator that :sympathy which his fame and her devotion must call t ,rth, and will aid her .in • carrying out' an enterprise' involving, as we believe, the honour of the nation. We earnestly, therefore, entreat our countrymen to unite with us in contributing to this noble object. Roderick Murchison, Pres. Royal Geographical Society, ; Francis Beaufort, Rear-Admiral, F.R.S. ' Wrottesley, Pres. Rl.-Soeiety ; Edward Sabine, M.-General, Treas. RI. Society, P.R.G.S. ; Robert Brown, F.R.S., V.p.L.s. ; Richard Collinson, Captain R.N., F.R.G.S. ; John Barrow, F. R. S. , F. R. G. S. ,IPTIONS. C. Coote, zo - 0 0 Mrs. J. M. Batty 1 1 0 J. C. Janson, Esq.: '5 5 0 C. Bahbage, F.R.S. 10 0 0 Lieut.R N. Hughes 2 0\""
            ],
            "application/vnd.google.colaboratory.intrinsic+json": {
              "type": "string"
            }
          },
          "metadata": {},
          "execution_count": 49
        }
      ],
      "source": [
        "df_small_bad_ocr.iloc[3]['chunks']"
      ]
    },
    {
      "cell_type": "code",
      "execution_count": null,
      "metadata": {
        "id": "Y5BxeDnttYZ7",
        "colab": {
          "base_uri": "https://localhost:8080/",
          "height": 191
        },
        "outputId": "7c65f94f-aaaf-45d2-8e84-4b986fa1359f"
      },
      "outputs": [
        {
          "output_type": "execute_result",
          "data": {
            "text/plain": [
              "'Here is the transcribed and corrected text:\\n\\n###To the south of well-searched tracts, and has been approached by vessels that have returned without loss, has never yet been explored.\\n\\nSupported by the advice of those experienced Arctic seamen, in whom she has every reason to confide, Lady Franklin makes this last effort to clear away the mystery that shrouds the fate of her husband and his crew, and possibly to rescue from their isolated abode among the Esquimaux some of his younger companions, who may still be prolonging a dreary existence.\\n\\n• On such an occasion we, whose names are hereunto subscribed, feel confident that this our appeal will not remain unanswered by the British people, who will, we doubt not, tender to the widow of the illustrious navigator that sympathy which his fame and her devotion must call forth, and will aid her in carrying out an enterprise involving, as we believe, the honour of the nation.\\n\\nWe earnestly, therefore, entreat our countrymen to unite with us in contributing to this noble object.\\n\\nRoderick Murchison, Pres. Royal Geographical Society,\\nFrancis Beaufort, Rear-Admiral, F.R.S.\\nWrottesley, Pres. Rl.-Society;\\nEdward Sabine, M.-General, Treas. RI. Society, P.R.G.S.\\nRobert Brown, F.R.S., V.p.L.s.\\nRichard Collinson, Captain R.N., F.R.G.S.\\nJohn Barrow, F.R.S., F.R.G.S.\\nSUBSCRIPTIONS:\\nC. Coote, £0 0 0\\nMrs. J. M. Batty, £1 1 0\\nJ. C. Janson, Esq.: £5 5 0\\nC. Bahmage, F.R.S., £10 0 0\\nLieut. R. N. Hughes, £2 0 0'"
            ],
            "application/vnd.google.colaboratory.intrinsic+json": {
              "type": "string"
            }
          },
          "metadata": {},
          "execution_count": 50
        }
      ],
      "source": [
        "df_small_bad_ocr.iloc[3]['completion']"
      ]
    },
    {
      "cell_type": "code",
      "execution_count": null,
      "metadata": {
        "id": "BpChnh_7q-gF"
      },
      "outputs": [],
      "source": [
        "df_small_bad_ocr.to_csv('newspaper_ocr_corrected.csv')"
      ]
    },
    {
      "cell_type": "markdown",
      "metadata": {
        "id": "FzavYR10sI_o"
      },
      "source": [
        "## Exercise\n",
        "\n",
        "Experiment with your own system and user message! Have fun :-)"
      ]
    },
    {
      "cell_type": "code",
      "execution_count": null,
      "metadata": {
        "id": "OyrtAOQ24cJO"
      },
      "outputs": [],
      "source": [
        "# enter code here"
      ]
    },
    {
      "cell_type": "markdown",
      "source": [
        "# What if things don't work?\n",
        "\n",
        "- Use larger models (see example below for using the OpenAI API)\n",
        "- Model fine-tuning on real or synthetic data. An example [here](https://huggingface.co/blog/mlabonne/sft-llama3)"
      ],
      "metadata": {
        "id": "21GtJijJbwlE"
      }
    },
    {
      "cell_type": "code",
      "source": [
        "!pip install openai"
      ],
      "metadata": {
        "id": "yzr930-ZeNtT"
      },
      "execution_count": null,
      "outputs": []
    },
    {
      "cell_type": "code",
      "source": [
        "import openai"
      ],
      "metadata": {
        "id": "SY4lisOheLoL"
      },
      "execution_count": null,
      "outputs": []
    },
    {
      "cell_type": "code",
      "source": [
        "df_small_bad_ocr.iloc[4]['chunks']"
      ],
      "metadata": {
        "id": "UnMGcBDvdHiV",
        "outputId": "54f51c60-044c-4d6a-c039-8b06e04f9bd5",
        "colab": {
          "base_uri": "https://localhost:8080/",
          "height": 191
        }
      },
      "execution_count": null,
      "outputs": [
        {
          "output_type": "execute_result",
          "data": {
            "text/plain": [
              "\"from Harrow; Mr. and Miss Afansergh, at Gould's Hotel, Jermyn-street, from Paris; Captain Patterson, at ditto, from Bath ; Samuel Peach, Esq., at Burlington Hotel, Old Burlington and Cork.:streets, from Warwickshire ; J. Cano, Esq. at ditto, from Ireland. CUANGEL—The Earl and Countess of Sefton and the Ladies Molyneux, for their seat, Stoke Farm, Berke ; the Countess of Mansfield, for her Villa at Twickenham ; Lord Lynedock, from his seat, Cosgrove Priory, for the Marquis of Anglesey's, Beau Desert, Staffordshire; Lord Meneaster, from Melton Mowbray, for his seat, in Cumberland ; Augustus Atkyns, Esq. from Farnborough Hill, near Bagshot, to Arreton Vicarage, near Newport, Isle of Wight; the Rev. Dr. Wynne, from Warne's Hotel; Mrs. Fletcher and family, from ditto; Mrs. Walker and family, from ditto, for North Wales; the Countess of Golflird, from the St. George's Hotel, Albemarle-street, for her seat, Brompton Park, Huntingdon. The Marchioness Dowager of Salisbury's Convex.sazione, on Sunday evening, was attended by the Russian Prince Puckler-Muskau, the Prince and Princess Esterhazy, the Prince and Princess Polignac, the Princess Lieven, the Ambassador from Portugal, the Ministers from Naples, Saxony, Wirtemberg, Prussia, Sardinia, Sweden, and the Netherlands, Countess Ludolff, Sir George Warrender, Colonel and Mrs. Malcolm, Lady Fitzroy Somerset, Earl of Westmorland, Mr. and Mrs. D'Anshaw, Countess Tankerville, Mr. Gordon, Lady Anne Becket, Mr. S. Smith, General Capel, Madame and Mademoiselle Feick, Colonel Whatley, Countess of Essex, Mr. de Neuman, Count Lothim, Mr. and Mrs. Omer Moreau, Countess de Chestalgar, Lady Elizabeth Stuart, Countess d'Alcudia, Monsieur\""
            ],
            "application/vnd.google.colaboratory.intrinsic+json": {
              "type": "string"
            }
          },
          "metadata": {},
          "execution_count": 53
        }
      ]
    },
    {
      "cell_type": "code",
      "source": [
        "from openai import OpenAI\n",
        "client = OpenAI(api_key='sk-...')"
      ],
      "metadata": {
        "id": "eChdTy-fsOiC"
      },
      "execution_count": null,
      "outputs": []
    },
    {
      "cell_type": "code",
      "source": [
        "completion = client.chat.completions.create(\n",
        "  model=\"gpt-4o\",\n",
        "  messages=[\n",
        "    {\"role\": \"system\", \"content\": \"You are a helpful assistant. Correct the text below.\"},\n",
        "    {\"role\": \"user\", \"content\": df_small_bad_ocr.iloc[4]['chunks']}\n",
        "  ]\n",
        ")\n",
        "\n"
      ],
      "metadata": {
        "id": "bz78uSV0bwRe"
      },
      "execution_count": null,
      "outputs": []
    },
    {
      "cell_type": "code",
      "source": [
        "print(completion.choices[0].message.content)"
      ],
      "metadata": {
        "id": "-f-JzBjysGnP",
        "outputId": "3d50cdb7-eb81-4809-c1a6-02fba79db9fd",
        "colab": {
          "base_uri": "https://localhost:8080/"
        }
      },
      "execution_count": null,
      "outputs": [
        {
          "output_type": "stream",
          "name": "stdout",
          "text": [
            "From Harrow; Mr. and Miss Afansergh, at Gould's Hotel, Jermyn Street, from Paris; Captain Patterson, at the same, from Bath; Samuel Peach, Esq., at Burlington Hotel, Old Burlington and Cork Streets, from Warwickshire; J. Cano, Esq., at the same, from Ireland.\n",
            "\n",
            "CHANGES—The Earl and Countess of Sefton and the Ladies Molyneux, for their seat, Stoke Farm, Berkshire; the Countess of Mansfield, for her villa at Twickenham; Lord Lynedoch, from his seat, Cosgrove Priory, for the Marquis of Anglesey's Beau Desert, Staffordshire; Lord Meneaster, from Melton Mowbray, for his seat in Cumberland; Augustus Atkyns, Esq., from Farnborough Hill, near Bagshot, to Arreton Vicarage, near Newport, Isle of Wight; the Rev. Dr. Wynne, from Warne's Hotel; Mrs. Fletcher and family, from the same; Mrs. Walker and family, from the same, for North Wales; the Countess of Gifford, from the St. George's Hotel, Albemarle Street, for her seat, Brompton Park, Huntingdon.\n",
            "\n",
            "The Marchioness Dowager of Salisbury's conversazione, on Sunday evening, was attended by the Russian Prince Puckler-Muskau, the Prince and Princess Esterhazy, the Prince and Princess Polignac, the Princess Lieven, the Ambassador from Portugal, the Ministers from Naples, Saxony, Wurttemberg, Prussia, Sardinia, Sweden, and the Netherlands, Countess Ludolf, Sir George Warrender, Colonel and Mrs. Malcolm, Lady Fitzroy Somerset, Earl of Westmorland, Mr. and Mrs. D'Anshaw, Countess Tankerville, Mr. Gordon, Lady Anne Becket, Mr. S. Smith, General Capel, Madame and Mademoiselle Feick, Colonel Whatley, Countess of Essex, Mr. de Neumann, Count Lothim, Mr. and Mrs. Omer Moreau, Countess de Chestalgar, Lady Elizabeth Stuart, and Countess d'Alcudia.\n"
          ]
        }
      ]
    },
    {
      "cell_type": "markdown",
      "metadata": {
        "id": "XzdNxsZPsKr5"
      },
      "source": [
        "# Fin."
      ]
    }
  ],
  "metadata": {
    "colab": {
      "collapsed_sections": [
        "Tq0pWVJXoo10"
      ],
      "machine_shape": "hm",
      "provenance": [],
      "toc_visible": true,
      "include_colab_link": true
    },
    "kernelspec": {
      "display_name": "Python 3",
      "name": "python3"
    },
    "language_info": {
      "name": "python"
    }
  },
  "nbformat": 4,
  "nbformat_minor": 0
}